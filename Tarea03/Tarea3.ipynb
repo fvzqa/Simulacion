{
 "cells": [
  {
   "cell_type": "code",
   "execution_count": 76,
   "metadata": {},
   "outputs": [],
   "source": [
    "library(\"parallel\")\n",
    "library(\"foreach\")\n",
    "library(\"doParallel\")\n",
    "library(\"iterators\")"
   ]
  },
  {
   "cell_type": "code",
   "execution_count": 2,
   "metadata": {},
   "outputs": [],
   "source": [
    "primo <- function(n){\n",
    "    if (n == 1 || n == 2) {\n",
    "        return(TRUE)\n",
    "    }\n",
    "    if (n %% 2 == 0) {\n",
    "        return(FALSE)\n",
    "    }\n",
    "    for (i in seq(3, max(3, ceiling(sqrt(n))), 2)){\n",
    "        if ((n %% i) == 0) {\n",
    "            return(FALSE)\n",
    "        }\n",
    "    }\n",
    "    return(TRUE)\n",
    "}"
   ]
  },
  {
   "cell_type": "code",
   "execution_count": 3,
   "metadata": {},
   "outputs": [],
   "source": [
    "divisores<-function(n){\n",
    "    div<-numeric()\n",
    "    for (i in 1:ceiling(sqrt(n))){\n",
    "        if ((n%%i) == 0){\n",
    "            div<-c(div,i)\n",
    "            div<-c(div,n/i)\n",
    "        }\n",
    "    }\n",
    "    return(sort(unique(div)))\n",
    "    }"
   ]
  },
  {
   "cell_type": "code",
   "execution_count": 4,
   "metadata": {},
   "outputs": [],
   "source": [
    "fact_primos<-function(n){\n",
    "    div<-numeric()\n",
    "    if(n==1){\n",
    "        return(1)\n",
    "    }\n",
    "    while(n%%2 == 0){\n",
    "    div<-c(div,2)\n",
    "    n = n/2\n",
    "    }\n",
    "    \n",
    "    for(i in seq(3, max(3, ceiling(sqrt(n))), 2)){\n",
    "        while(n%%i==0){\n",
    "            div<-c(div,i)\n",
    "            n=n/i\n",
    "        }\n",
    "    }\n",
    "    if(n>2){\n",
    "        div<-c(div,n)\n",
    "        }\n",
    "    return(table(div))\n",
    "}"
   ]
  },
  {
   "cell_type": "code",
   "execution_count": 5,
   "metadata": {},
   "outputs": [
    {
     "name": "stderr",
     "output_type": "stream",
     "text": [
      "Warning message in read.table(file = file, header = header, sep = sep, quote = quote, :\n",
      "“incomplete final line found by readTableHeader on 'primes.txt'”\n"
     ]
    }
   ],
   "source": [
    "primes = read.delim(\"primes.txt\", header=FALSE, sep=\" \")"
   ]
  },
  {
   "cell_type": "code",
   "execution_count": 6,
   "metadata": {},
   "outputs": [],
   "source": [
    "primos=c()\n",
    "for (i in 1:length(primes)){\n",
    "    primos=c(primos, as.numeric(primes[i]))\n",
    "}\n",
    "\n",
    "hasta=primos[length(primos)]\n",
    "desde=primos[1]\n",
    "\n"
   ]
  },
  {
   "cell_type": "code",
   "execution_count": 7,
   "metadata": {},
   "outputs": [],
   "source": [
    "noprimos=c()\n",
    "for (i in desde:hasta){\n",
    "    if(primo(i)==FALSE){\n",
    "        noprimos=c(noprimos,i)\n",
    "    }    \n",
    "}"
   ]
  },
  {
   "cell_type": "code",
   "execution_count": 10,
   "metadata": {},
   "outputs": [],
   "source": [
    "vectorprimos <- function (porcentajeprimos) {\n",
    "    vector=c()\n",
    "    m=(porcentajeprimos/100)*1000\n",
    "    for (i in 1:m){\n",
    "       vector=c(vector, primos[i]) \n",
    "    }\n",
    "    for (j in 1:(1000-m)){\n",
    "        vector=c(vector,noprimos[j])\n",
    "    }\n",
    "    return(sort(vector))\n",
    "}"
   ]
  },
  {
   "cell_type": "code",
   "execution_count": 11,
   "metadata": {},
   "outputs": [],
   "source": [
    "vectorprimos1 <- function (porcentajeprimos) {\n",
    "    vector=c()\n",
    "    m=(porcentajeprimos/100)*1000\n",
    "    for (i in 1:m){\n",
    "       vector=c(vector, primos[i]) \n",
    "    }\n",
    "    for (j in 1:(1000-m)){\n",
    "        vector=c(vector,noprimos[j])\n",
    "    }\n",
    "    return(vector)\n",
    "}\n",
    "\n",
    "vectorprimos2 <- function (porcentajeprimos) {\n",
    "    vector=c()\n",
    "    m=(porcentajeprimos/100)*1000\n",
    "    \n",
    "    for (j in 1:(1000-m)){\n",
    "        vector=c(vector,noprimos[j])\n",
    "    }\n",
    "    for (i in 1:m){\n",
    "       vector=c(vector, primos[i]) \n",
    "    }\n",
    "\n",
    "    return(vector)\n",
    "}"
   ]
  },
  {
   "cell_type": "code",
   "execution_count": 12,
   "metadata": {},
   "outputs": [],
   "source": [
    "datos0 <- list(list(), list(), list())\n",
    "for (j in 1:3) {\n",
    "    \n",
    "    original    <-vectorprimos(50)\n",
    "    invertido   <- sort(original, decreasing = TRUE)\n",
    "    aleatorio   <- sample(original) \n",
    "    primosfirst <- vectorprimos1(50)\n",
    "    primoslast  <- vectorprimos2(50)\n",
    "    replicas    <- 50\n",
    "\n",
    "    suppressMessages(library(doParallel))\n",
    "    registerDoParallel(makeCluster(detectCores() - j))\n",
    "\n",
    "    ot <-  numeric()\n",
    "    it <-  numeric()\n",
    "    at <-  numeric()\n",
    "    pf <-  numeric()\n",
    "    pl <-  numeric()\n",
    "\n",
    "    for (r in 1:replicas) {\n",
    "        ot <- c(ot, system.time(foreach(n = original, .combine=c) %dopar% primo(n))[3])\n",
    "        it <- c(it, system.time(foreach(n = invertido, .combine=c) %dopar% primo(n))[3])\n",
    "        at <- c(at, system.time(foreach(n = aleatorio, .combine=c) %dopar% primo(n))[3]) \n",
    "        pf <- c(at, system.time(foreach(n = primosfirst, .combine=c) %dopar% primo(n))[3]) \n",
    "        pl <- c(at, system.time(foreach(n = primoslast, .combine=c) %dopar% primo(n))[3]) \n",
    "    }\n",
    "    stopImplicitCluster()\n",
    "    \n",
    "    datos0[[j]][[1]]  <- ot\n",
    "    datos0[[j]][[2]]  <- it\n",
    "    datos0[[j]][[3]]  <- at\n",
    "    datos0[[j]][[4]]  <- pf\n",
    "    datos0[[j]][[5]]  <- pl\n",
    "}\n",
    "\n"
   ]
  },
  {
   "cell_type": "code",
   "execution_count": 101,
   "metadata": {},
   "outputs": [
    {
     "data": {
      "text/plain": [
       "\n",
       "\tKruskal-Wallis rank sum test\n",
       "\n",
       "data:  x$Tiempo by x$Nucleos\n",
       "Kruskal-Wallis chi-squared = 11.912, df = 3, p-value = 0.007692\n"
      ]
     },
     "metadata": {},
     "output_type": "display_data"
    },
    {
     "data": {
      "text/plain": [
       "\n",
       "\tKruskal-Wallis rank sum test\n",
       "\n",
       "data:  x$Tiempo by x$Orden\n",
       "Kruskal-Wallis chi-squared = 4.7353, df = 5, p-value = 0.449\n"
      ]
     },
     "metadata": {},
     "output_type": "display_data"
    }
   ],
   "source": [
    "x<-data.frame(\"Nucleos\", \"Orden\", \"Tiempo\")\n",
    "for(j in 1:3){\n",
    "    for(k in 1:5){\n",
    "        x<-rbind(x,c(4-j,k,round(mean(datos0[[j]][[k]]),digits = 4)))\n",
    "    }\n",
    "}\n",
    "colnames(x)<-c(\"Nucleos\",\"Orden\", \"Tiempo\")\n",
    "kruskal.test(x$Tiempo~x$Nucleos)\n",
    "kruskal.test(x$Tiempo~x$Orden)"
   ]
  },
  {
   "cell_type": "code",
   "execution_count": 78,
   "metadata": {},
   "outputs": [
    {
     "data": {
      "text/html": [
       "<strong>pdf:</strong> 2"
      ],
      "text/latex": [
       "\\textbf{pdf:} 2"
      ],
      "text/markdown": [
       "**pdf:** 2"
      ],
      "text/plain": [
       "pdf \n",
       "  2 "
      ]
     },
     "metadata": {},
     "output_type": "display_data"
    }
   ],
   "source": [
    "png(file=\"Nucleo1_primos.png\",\n",
    "    width=3000, height=3000, res = 400)\n",
    "boxplot(datos0[[1]][[1]],datos0[[1]][[2]],datos0[[1]][[3]],\n",
    "        datos0[[1]][[4]],datos0[[1]][[5]],col=palette(\"Pastel 2\"),\n",
    "        ylab=\"Tiempo (s)\", xlab=\" \",\n",
    "        names=c(\"Ascendente\", \"Descendente\", \"Aleatorio\", \"PrimosPrimero\", \n",
    "                \"PrimosFinal\"), las=1, cex.lab=1.2, cex.axis=0.9)\n",
    "dev.off()"
   ]
  },
  {
   "cell_type": "code",
   "execution_count": 80,
   "metadata": {},
   "outputs": [
    {
     "data": {
      "text/html": [
       "<strong>pdf:</strong> 2"
      ],
      "text/latex": [
       "\\textbf{pdf:} 2"
      ],
      "text/markdown": [
       "**pdf:** 2"
      ],
      "text/plain": [
       "pdf \n",
       "  2 "
      ]
     },
     "metadata": {},
     "output_type": "display_data"
    }
   ],
   "source": [
    "png(file=\"Nucleo2_primos.png\",\n",
    "    width=3000, height=3000, res = 400)\n",
    "boxplot(datos0[[2]][[1]],datos0[[2]][[2]],datos0[[2]][[3]],\n",
    "        datos0[[2]][[4]],datos0[[2]][[5]],col=palette(\"Pastel 2\"),\n",
    "        ylab=\"Tiempo (s)\", xlab=\" \",\n",
    "        names=c(\"Ascendente\", \"Descendente\", \"Aleatorio\", \"Primos\", \n",
    "                \"No primos\"), las=1, cex.lab=1.2, cex.axis=0.9)\n",
    "dev.off()"
   ]
  },
  {
   "cell_type": "code",
   "execution_count": 81,
   "metadata": {},
   "outputs": [
    {
     "data": {
      "text/html": [
       "<strong>pdf:</strong> 2"
      ],
      "text/latex": [
       "\\textbf{pdf:} 2"
      ],
      "text/markdown": [
       "**pdf:** 2"
      ],
      "text/plain": [
       "pdf \n",
       "  2 "
      ]
     },
     "metadata": {},
     "output_type": "display_data"
    }
   ],
   "source": [
    "png(file=\"Nucleo3_primos.png\",\n",
    "    width=3000, height=3000, res = 400)\n",
    "boxplot(datos0[[3]][[1]],datos0[[3]][[2]],datos0[[3]][[3]],\n",
    "        datos0[[3]][[4]],datos0[[3]][[5]],col=palette(\"Pastel 2\"),\n",
    "        ylab=\"Tiempo (s)\", xlab=\" \",\n",
    "        names=c(\"Ascendente\", \"Descendente\", \"Aleatorio\", \"Primos\", \n",
    "                \"No primos\"), las=1, cex.lab=1.2, cex.axis=0.9)\n",
    "dev.off()"
   ]
  },
  {
   "cell_type": "code",
   "execution_count": 32,
   "metadata": {},
   "outputs": [],
   "source": [
    "datos1 <- list(list(), list(), list())\n",
    "for (j in 1:3){\n",
    "\n",
    "suppressMessages(library(doParallel))\n",
    "registerDoParallel(makeCluster(detectCores() - j))\n",
    "replicas<-30\n",
    "\n",
    "exp0   <-  numeric()\n",
    "exp10  <-  numeric()\n",
    "exp20  <-  numeric()\n",
    "exp30  <-  numeric()\n",
    "exp40  <-  numeric()\n",
    "exp50  <-  numeric()\n",
    "exp60  <-  numeric()\n",
    "exp70  <-  numeric()\n",
    "exp80  <-  numeric()\n",
    "exp90  <-  numeric()\n",
    "exp100 <-  numeric()\n",
    "for (r in 1:replicas) {\n",
    "    exp0   <- c(exp0,   system.time(foreach(n = vectorprimos(0),   .combine=c) %dopar% primo(n))[3])\n",
    "    exp10  <- c(exp10,  system.time(foreach(n = vectorprimos(10),  .combine=c) %dopar% primo(n))[3])\n",
    "    exp20  <- c(exp20,  system.time(foreach(n = vectorprimos(20),  .combine=c) %dopar% primo(n))[3])\n",
    "    exp30  <- c(exp30,  system.time(foreach(n = vectorprimos(30),  .combine=c) %dopar% primo(n))[3])\n",
    "    exp40  <- c(exp40,  system.time(foreach(n = vectorprimos(40),  .combine=c) %dopar% primo(n))[3])\n",
    "    exp50  <- c(exp50,  system.time(foreach(n = vectorprimos(50),  .combine=c) %dopar% primo(n))[3])\n",
    "    exp60  <- c(exp60,  system.time(foreach(n = vectorprimos(60),  .combine=c) %dopar% primo(n))[3])\n",
    "    exp70  <- c(exp70,  system.time(foreach(n = vectorprimos(70),  .combine=c) %dopar% primo(n))[3])\n",
    "    exp80  <- c(exp80,  system.time(foreach(n = vectorprimos(80),  .combine=c) %dopar% primo(n))[3])\n",
    "    exp90  <- c(exp90,  system.time(foreach(n = vectorprimos(90),  .combine=c) %dopar% primo(n))[3])\n",
    "    exp100 <- c(exp100, system.time(foreach(n = vectorprimos(100), .combine=c) %dopar% primo(n))[3])\n",
    "}\n",
    "stopImplicitCluster()\n",
    "    datos1[[j]][[1]]  <- exp0\n",
    "    datos1[[j]][[2]]  <- exp10\n",
    "    datos1[[j]][[3]]  <- exp20\n",
    "    datos1[[j]][[4]]  <- exp30\n",
    "    datos1[[j]][[5]]  <- exp40\n",
    "    datos1[[j]][[6]]  <- exp50\n",
    "    datos1[[j]][[7]]  <- exp60\n",
    "    datos1[[j]][[8]]  <- exp70\n",
    "    datos1[[j]][[9]]  <- exp80\n",
    "    datos1[[j]][[10]] <- exp90\n",
    "    datos1[[j]][[11]] <- exp100\n",
    "    \n",
    "}\n"
   ]
  },
  {
   "cell_type": "code",
   "execution_count": 82,
   "metadata": {},
   "outputs": [
    {
     "data": {
      "text/html": [
       "<strong>pdf:</strong> 2"
      ],
      "text/latex": [
       "\\textbf{pdf:} 2"
      ],
      "text/markdown": [
       "**pdf:** 2"
      ],
      "text/plain": [
       "pdf \n",
       "  2 "
      ]
     },
     "metadata": {},
     "output_type": "display_data"
    }
   ],
   "source": [
    "png(file=\"porcentaje_1.png\",\n",
    "    width=3000, height=3000, res = 400)\n",
    "boxplot(datos1[[1]][[1]],datos1[[1]][[2]],datos1[[1]][[3]],\n",
    "        datos1[[1]][[4]],datos1[[1]][[5]],datos1[[1]][[6]],\n",
    "        datos1[[1]][[7]],datos1[[1]][[8]],datos1[[1]][[9]],\n",
    "        datos1[[1]][[10]],datos1[[1]][[11]],col=palette(\"Pastel 2\"),\n",
    "        ylab=\"Tiempo (s)\", xlab=\"Porcentaje de primos en el vector\",\n",
    "        names=c(\"0%\", \"10%\", \"20%\", \"30%\", \"40%\", \"50%\", \"%60\", \"70%\",\n",
    "               \"80%\", \"90%\", \"100%\"))\n",
    "dev.off()"
   ]
  },
  {
   "cell_type": "code",
   "execution_count": 83,
   "metadata": {},
   "outputs": [
    {
     "data": {
      "text/html": [
       "<strong>pdf:</strong> 2"
      ],
      "text/latex": [
       "\\textbf{pdf:} 2"
      ],
      "text/markdown": [
       "**pdf:** 2"
      ],
      "text/plain": [
       "pdf \n",
       "  2 "
      ]
     },
     "metadata": {},
     "output_type": "display_data"
    }
   ],
   "source": [
    "png(file=\"porcentaje_2.png\",\n",
    "    width=3000, height=3000, res = 400)\n",
    "boxplot(datos1[[2]][[1]],datos1[[2]][[2]],datos1[[2]][[3]],\n",
    "        datos1[[2]][[4]],datos1[[2]][[5]],datos1[[2]][[6]],\n",
    "        datos1[[2]][[7]],datos1[[2]][[8]],datos1[[2]][[9]],\n",
    "        datos1[[2]][[10]],datos1[[2]][[11]],col=palette(\"Pastel 2\"),\n",
    "        ylab=\"Tiempo (s)\", xlab=\"Porcentaje de primos en el vector\",\n",
    "        names=c(\"0%\", \"10%\", \"20%\", \"30%\", \"40%\", \"50%\", \"%60\", \"70%\",\n",
    "               \"80%\", \"90%\", \"100%\"))\n",
    "dev.off()"
   ]
  },
  {
   "cell_type": "code",
   "execution_count": 84,
   "metadata": {},
   "outputs": [
    {
     "data": {
      "text/html": [
       "<strong>pdf:</strong> 2"
      ],
      "text/latex": [
       "\\textbf{pdf:} 2"
      ],
      "text/markdown": [
       "**pdf:** 2"
      ],
      "text/plain": [
       "pdf \n",
       "  2 "
      ]
     },
     "metadata": {},
     "output_type": "display_data"
    }
   ],
   "source": [
    "png(file=\"porcentaje_3.png\",\n",
    "    width=3000, height=3000, res = 400)\n",
    "boxplot(datos1[[3]][[1]],datos1[[3]][[2]],datos1[[3]][[3]],\n",
    "        datos1[[3]][[4]],datos1[[3]][[5]],datos1[[3]][[6]],\n",
    "        datos1[[3]][[7]],datos1[[3]][[8]],datos1[[3]][[9]],\n",
    "        datos1[[3]][[10]],datos1[[3]][[11]],col=palette(\"Pastel 2\"),\n",
    "        ylab=\"Tiempo (s)\", xlab=\"Porcentaje de primos en el vector\",\n",
    "        names=c(\"0%\", \"10%\", \"20%\", \"30%\", \"40%\", \"50%\", \"%60\", \"70%\",\n",
    "               \"80%\", \"90%\", \"100%\"))\n",
    "dev.off()"
   ]
  },
  {
   "cell_type": "code",
   "execution_count": 95,
   "metadata": {},
   "outputs": [
    {
     "data": {
      "text/plain": [
       "\n",
       "\tKruskal-Wallis rank sum test\n",
       "\n",
       "data:  y$Tiempo by y$Nucleos\n",
       "Kruskal-Wallis chi-squared = 15.198, df = 3, p-value = 0.001655\n"
      ]
     },
     "metadata": {},
     "output_type": "display_data"
    },
    {
     "data": {
      "text/plain": [
       "\n",
       "\tKruskal-Wallis rank sum test\n",
       "\n",
       "data:  y$Tiempo by y$PorcentajePRIMOS\n",
       "Kruskal-Wallis chi-squared = 13.011, df = 11, p-value = 0.2926\n"
      ]
     },
     "metadata": {},
     "output_type": "display_data"
    }
   ],
   "source": [
    "y<-data.frame(\"Nucleos\", \"PorcentajePRIMOS\", \"Tiempo\")\n",
    "for(j in 1:3){\n",
    "    for(k in 1:11){\n",
    "        y<-rbind(y,c(4-j,k,round(mean(datos1[[j]][[k]]))))\n",
    "    }\n",
    "}\n",
    "colnames(y)<-c(\"Nucleos\",\"PorcentajePRIMOS\", \"Tiempo\")\n",
    "kruskal.test(y$Tiempo~y$Nucleos)\n",
    "kruskal.test(y$Tiempo~y$PorcentajePRIMOS)"
   ]
  },
  {
   "cell_type": "code",
   "execution_count": 61,
   "metadata": {},
   "outputs": [],
   "source": [
    "datos2 <- list(list(), list(), list())\n",
    "for (j in 1:3){\n",
    "    \n",
    "original    <-vectorprimos(50)\n",
    "invertido   <- sort(original, decreasing = TRUE)\n",
    "aleatorio   <- sample(original) \n",
    "primosfirst <- vectorprimos1(50)\n",
    "primoslast  <- vectorprimos2(50)\n",
    "replicas    <- 30\n",
    "\n",
    "suppressMessages(library(doParallel))\n",
    "registerDoParallel(makeCluster(detectCores() - j))\n",
    "\n",
    "ot <-  numeric()\n",
    "it <-  numeric()\n",
    "at <-  numeric()\n",
    "pf <-  numeric()\n",
    "pl <-  numeric()\n",
    "\n",
    "for (r in 1:replicas) {\n",
    "    ot <- c(ot, system.time(foreach(n = original, .combine=c) %dopar% divisores(n))[3])\n",
    "    it <- c(it, system.time(foreach(n = invertido, .combine=c) %dopar% divisores(n))[3])\n",
    "    at <- c(at, system.time(foreach(n = aleatorio, .combine=c) %dopar% divisores(n))[3]) \n",
    "    pf <- c(at, system.time(foreach(n = primosfirst, .combine=c) %dopar% divisores(n))[3]) \n",
    "    pl <- c(at, system.time(foreach(n = primoslast, .combine=c) %dopar% divisores(n))[3]) \n",
    "}\n",
    "    stopImplicitCluster()\n",
    "    datos2[[j]][[1]]  <- ot\n",
    "    datos2[[j]][[2]]  <- it\n",
    "    datos2[[j]][[3]]  <- at\n",
    "    datos2[[j]][[4]]  <- pf\n",
    "    datos2[[j]][[5]]  <- pl\n",
    "\n",
    "}\n"
   ]
  },
  {
   "cell_type": "code",
   "execution_count": 104,
   "metadata": {},
   "outputs": [
    {
     "data": {
      "text/plain": [
       "\n",
       "\tKruskal-Wallis rank sum test\n",
       "\n",
       "data:  z$Tiempo by z$Orden\n",
       "Kruskal-Wallis chi-squared = 3.6364, df = 5, p-value = 0.6029\n"
      ]
     },
     "metadata": {},
     "output_type": "display_data"
    },
    {
     "data": {
      "text/plain": [
       "\n",
       "\tKruskal-Wallis rank sum test\n",
       "\n",
       "data:  z$Tiempo by z$Nucleos\n",
       "Kruskal-Wallis chi-squared = 15, df = 3, p-value = 0.001817\n"
      ]
     },
     "metadata": {},
     "output_type": "display_data"
    }
   ],
   "source": [
    "z<-data.frame(\"Nucleos\", \"Orden\", \"Tiempo\")\n",
    "for(j in 1:3){\n",
    "    for(k in 1:5){\n",
    "        z<-rbind(z,c(4-j,k,round(mean(datos2[[j]][[k]]))))\n",
    "    }\n",
    "}\n",
    "colnames(z)<-c(\"Nucleos\",\"Orden\", \"Tiempo\")\n",
    "kruskal.test(z$Tiempo~z$Orden)\n",
    "kruskal.test(z$Tiempo~z$Nucleos)"
   ]
  },
  {
   "cell_type": "code",
   "execution_count": 86,
   "metadata": {},
   "outputs": [
    {
     "data": {
      "text/html": [
       "<strong>pdf:</strong> 2"
      ],
      "text/latex": [
       "\\textbf{pdf:} 2"
      ],
      "text/markdown": [
       "**pdf:** 2"
      ],
      "text/plain": [
       "pdf \n",
       "  2 "
      ]
     },
     "metadata": {},
     "output_type": "display_data"
    }
   ],
   "source": [
    "png(file=\"divisores_1.png\",\n",
    "    width=3000, height=3000, res = 400)\n",
    "boxplot(datos2[[1]][[1]],datos2[[1]][[2]],datos2[[1]][[3]],\n",
    "        datos2[[1]][[4]],datos2[[1]][[5]],col=palette(\"Pastel 2\"),\n",
    "        ylab=\"Tiempo (s)\", xlab=\" \",\n",
    "        names=c(\"Ascendente\", \"Descendente\", \"Aleatorio\", \"Primos\", \n",
    "                \"No primos\"), las=1, cex.lab=1.2, cex.axis=0.9)\n",
    "dev.off()"
   ]
  },
  {
   "cell_type": "code",
   "execution_count": 87,
   "metadata": {},
   "outputs": [
    {
     "data": {
      "text/html": [
       "<strong>pdf:</strong> 2"
      ],
      "text/latex": [
       "\\textbf{pdf:} 2"
      ],
      "text/markdown": [
       "**pdf:** 2"
      ],
      "text/plain": [
       "pdf \n",
       "  2 "
      ]
     },
     "metadata": {},
     "output_type": "display_data"
    }
   ],
   "source": [
    "png(file=\"divisores_2.png\",\n",
    "    width=3000, height=3000, res = 400)\n",
    "boxplot(datos2[[2]][[1]],datos2[[2]][[2]],datos2[[2]][[3]],\n",
    "        datos2[[2]][[4]],datos2[[2]][[5]],col=palette(\"Pastel 2\"),\n",
    "        ylab=\"Tiempo (s)\", xlab=\" \",\n",
    "        names=c(\"Ascendente\", \"Descendente\", \"Aleatorio\", \"Primos\", \n",
    "                \"No primos\"), las=1, cex.lab=1.2, cex.axis=0.9)\n",
    "dev.off()"
   ]
  },
  {
   "cell_type": "code",
   "execution_count": 88,
   "metadata": {},
   "outputs": [
    {
     "data": {
      "text/html": [
       "<strong>pdf:</strong> 2"
      ],
      "text/latex": [
       "\\textbf{pdf:} 2"
      ],
      "text/markdown": [
       "**pdf:** 2"
      ],
      "text/plain": [
       "pdf \n",
       "  2 "
      ]
     },
     "metadata": {},
     "output_type": "display_data"
    }
   ],
   "source": [
    "png(file=\"divisores_3.png\",\n",
    "    width=3000, height=3000, res = 400)\n",
    "boxplot(datos2[[3]][[1]],datos2[[3]][[2]],datos2[[3]][[3]],\n",
    "        datos2[[3]][[4]],datos2[[3]][[5]],col=palette(\"Pastel 2\"),\n",
    "        ylab=\"Tiempo (s)\", xlab=\" \",\n",
    "        names=c(\"Ascendente\", \"Descendente\", \"Aleatorio\", \"Primos\", \n",
    "                \"No primos\"), las=1, cex.lab=1.2, cex.axis=0.9)\n",
    "dev.off()"
   ]
  },
  {
   "cell_type": "code",
   "execution_count": 69,
   "metadata": {},
   "outputs": [],
   "source": [
    "datos3 <- list(list(), list(), list())\n",
    "for (j in 1:3){\n",
    "    \n",
    "original    <-vectorprimos(50)\n",
    "invertido   <- sort(original, decreasing = TRUE)\n",
    "aleatorio   <- sample(original) \n",
    "primosfirst <- vectorprimos1(50)\n",
    "primoslast  <- vectorprimos2(50)\n",
    "replicas    <- 30\n",
    "\n",
    "suppressMessages(library(doParallel))\n",
    "registerDoParallel(makeCluster(detectCores() - j))\n",
    "\n",
    "ot <-  numeric()\n",
    "it <-  numeric()\n",
    "at <-  numeric()\n",
    "pf <-  numeric()\n",
    "pl <-  numeric()\n",
    "\n",
    "for (r in 1:replicas) {\n",
    "    ot <- c(ot, system.time(foreach(n = original, .combine=c) %dopar% fact_primos(n))[3])\n",
    "    it <- c(it, system.time(foreach(n = invertido, .combine=c) %dopar% fact_primos(n))[3])\n",
    "    at <- c(at, system.time(foreach(n = aleatorio, .combine=c) %dopar% fact_primos(n))[3]) \n",
    "    pf <- c(at, system.time(foreach(n = primosfirst, .combine=c) %dopar% fact_primos(n))[3]) \n",
    "    pl <- c(at, system.time(foreach(n = primoslast, .combine=c) %dopar% fact_primos(n))[3]) \n",
    "}\n",
    "    stopImplicitCluster()\n",
    "    datos3[[j]][[1]]  <- ot\n",
    "    datos3[[j]][[2]]  <- it\n",
    "    datos3[[j]][[3]]  <- at\n",
    "    datos3[[j]][[4]]  <- pf\n",
    "    datos3[[j]][[5]]  <- pl\n",
    "\n",
    "}\n"
   ]
  },
  {
   "cell_type": "code",
   "execution_count": 107,
   "metadata": {},
   "outputs": [
    {
     "data": {
      "text/plain": [
       "\n",
       "\tKruskal-Wallis rank sum test\n",
       "\n",
       "data:  w$Tiempo by w$Orden\n",
       "Kruskal-Wallis chi-squared = 3.6364, df = 5, p-value = 0.6029\n"
      ]
     },
     "metadata": {},
     "output_type": "display_data"
    },
    {
     "data": {
      "text/plain": [
       "\n",
       "\tKruskal-Wallis rank sum test\n",
       "\n",
       "data:  w$Tiempo by w$Nucleos\n",
       "Kruskal-Wallis chi-squared = 15, df = 3, p-value = 0.001817\n"
      ]
     },
     "metadata": {},
     "output_type": "display_data"
    }
   ],
   "source": [
    "w<-data.frame(\"Nucleos\", \"Orden\", \"Tiempo\")\n",
    "for(j in 1:3){\n",
    "    for(k in 1:5){\n",
    "        w<-rbind(w,c(4-j,k,round(mean(datos3[[j]][[k]]))))\n",
    "    }\n",
    "}\n",
    "colnames(w)<-c(\"Nucleos\",\"Orden\", \"Tiempo\")\n",
    "kruskal.test(w$Tiempo~w$Orden)\n",
    "kruskal.test(w$Tiempo~w$Nucleos)"
   ]
  },
  {
   "cell_type": "code",
   "execution_count": 108,
   "metadata": {},
   "outputs": [
    {
     "data": {
      "text/html": [
       "<strong>pdf:</strong> 2"
      ],
      "text/latex": [
       "\\textbf{pdf:} 2"
      ],
      "text/markdown": [
       "**pdf:** 2"
      ],
      "text/plain": [
       "pdf \n",
       "  2 "
      ]
     },
     "metadata": {},
     "output_type": "display_data"
    }
   ],
   "source": [
    "png(file=\"factorizacion_1.png\",\n",
    "    width=3000, height=3000, res = 400)\n",
    "boxplot(datos3[[1]][[1]],datos3[[1]][[2]],datos3[[1]][[3]],\n",
    "        datos3[[1]][[4]],datos3[[1]][[5]],col=palette(\"Pastel 2\"),\n",
    "        ylab=\"Tiempo (s)\", xlab=\" \",\n",
    "        names=c(\"Ascendente\", \"Descendente\", \"Aleatorio\", \"Primos\", \n",
    "                \"No primos\"), las=1, cex.lab=1.2, cex.axis=0.9)\n",
    "dev.off()"
   ]
  },
  {
   "cell_type": "code",
   "execution_count": 90,
   "metadata": {},
   "outputs": [
    {
     "data": {
      "text/html": [
       "<strong>pdf:</strong> 2"
      ],
      "text/latex": [
       "\\textbf{pdf:} 2"
      ],
      "text/markdown": [
       "**pdf:** 2"
      ],
      "text/plain": [
       "pdf \n",
       "  2 "
      ]
     },
     "metadata": {},
     "output_type": "display_data"
    }
   ],
   "source": [
    "png(file=\"factorizacion_2.png\",\n",
    "    width=3000, height=3000, res = 400)\n",
    "boxplot(datos3[[2]][[1]],datos3[[2]][[2]],datos3[[2]][[3]],\n",
    "        datos3[[2]][[4]],datos3[[2]][[5]],col=palette(\"Pastel 2\"),\n",
    "        ylab=\"Tiempo (s)\", xlab=\" \",\n",
    "        names=c(\"Ascendente\", \"Descendente\", \"Aleatorio\", \"Primos\", \n",
    "                \"No primos\"), las=1, cex.lab=1.2, cex.axis=0.9)\n",
    "dev.off()"
   ]
  },
  {
   "cell_type": "code",
   "execution_count": 91,
   "metadata": {},
   "outputs": [
    {
     "data": {
      "text/html": [
       "<strong>pdf:</strong> 2"
      ],
      "text/latex": [
       "\\textbf{pdf:} 2"
      ],
      "text/markdown": [
       "**pdf:** 2"
      ],
      "text/plain": [
       "pdf \n",
       "  2 "
      ]
     },
     "metadata": {},
     "output_type": "display_data"
    }
   ],
   "source": [
    "png(file=\"factorizacion_3.png\",\n",
    "    width=3000, height=3000, res = 400)\n",
    "boxplot(datos3[[3]][[1]],datos3[[3]][[2]],datos3[[3]][[3]],\n",
    "        datos3[[3]][[4]],datos3[[3]][[5]],col=palette(\"Pastel 2\"),\n",
    "        ylab=\"Tiempo (s)\", xlab=\" \",\n",
    "        names=c(\"Ascendente\", \"Descendente\", \"Aleatorio\", \"Primos\", \n",
    "                \"No primos\"), las=1, cex.lab=1.2, cex.axis=0.9)\n",
    "dev.off()"
   ]
  }
 ],
 "metadata": {
  "kernelspec": {
   "display_name": "R",
   "language": "R",
   "name": "ir"
  },
  "language_info": {
   "codemirror_mode": "r",
   "file_extension": ".r",
   "mimetype": "text/x-r-source",
   "name": "R",
   "pygments_lexer": "r",
   "version": "4.0.2"
  }
 },
 "nbformat": 4,
 "nbformat_minor": 4
}

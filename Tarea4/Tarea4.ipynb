{
 "cells": [
  {
   "cell_type": "markdown",
   "metadata": {},
   "source": [
    "# Práctica 4: Diagramas de Voronoi"
   ]
  },
  {
   "cell_type": "markdown",
   "metadata": {},
   "source": [
    "Examina de manera sistemática el efecto del número de semillas y del tamaño de la zona en la distribución en las grietas que se forman en términos de si la grieta parte o no la pieza. "
   ]
  },
  {
   "cell_type": "markdown",
   "metadata": {},
   "source": [
    "### Experimento"
   ]
  },
  {
   "cell_type": "markdown",
   "metadata": {},
   "source": [
    "El siguiente código está basado en el código implementado por la Dra. Elisa Schaeffer. El objetivo es, primeramente, determinar si la grieta parte o no la pieza. Como se considera una pieza de tamaño $n \\times n$, se considera que sí la rompe cuando la grieta regresa a uno de los cuatro lados de la pieza. Es decir si su coordenada en $x$ coincide con 1 o con $n$, del mismo modo, si su coordenada en $y$ coincide con 1 o con $n$."
   ]
  },
  {
   "cell_type": "code",
   "execution_count": 151,
   "metadata": {},
   "outputs": [],
   "source": [
    "tamaño <-  c(50, 75, 100, 125, 150, 175, 200)\n",
    "seed <-  c(2,4,6,8,10,20,30)\n",
    "datos <- data.frame()\n",
    "\n",
    "for (n in tamaño){\n",
    "    for (m in seed){\n",
    "        k=m*n\n",
    "        zona <- matrix(rep(0, n * n), nrow = n, ncol = n)\n",
    "        x <- rep(0, k) # ocupamos almacenar las coordenadas x de las semillas\n",
    "        y <- rep(0, k) # igual como las coordenadas y de las semillas\n",
    "\n",
    "        for (semilla in 1:k) {\n",
    "            while (TRUE) { # hasta que hallamos una posicion vacia para la semilla\n",
    "                fila <- sample(1:n, 1)\n",
    "                columna <- sample(1:n, 1)\n",
    "                if (zona[fila, columna] == 0) {\n",
    "                    zona[fila, columna] = semilla\n",
    "                    x[semilla] <- columna\n",
    "                    y[semilla] <- fila\n",
    "                    break\n",
    "                }\n",
    "            }\n",
    "        }\n",
    "\n",
    "        celda <-  function(pos) {\n",
    "            fila <- floor((pos - 1) / n) + 1\n",
    "            columna <- ((pos - 1) %% n) + 1\n",
    "            if (zona[fila, columna] > 0) { # es una semilla\n",
    "                return(zona[fila, columna])\n",
    "            } else {\n",
    "                cercano <- NULL # sin valor por el momento\n",
    "                menor <- n * sqrt(2) # mayor posible para comenzar la busqueda\n",
    "                for (semilla in 1:k) {\n",
    "                    dx <- columna - x[semilla]\n",
    "                    dy <- fila - y[semilla]\n",
    "                    dist <- sqrt(dx^2 + dy^2)\n",
    "                    if (dist < menor) {\n",
    "                        cercano <- semilla\n",
    "                        menor <- dist\n",
    "                    }\n",
    "                }\n",
    "                return(cercano)\n",
    "            }\n",
    "        }\n",
    "\n",
    "        suppressMessages(library(doParallel))\n",
    "        registerDoParallel(makeCluster(detectCores() - 1))\n",
    "        celdas <- foreach(p = 1:(n * n), .combine=c) %dopar% celda(p)\n",
    "        stopImplicitCluster()\n",
    "        voronoi <- matrix(celdas, nrow = n, ncol = n, byrow=TRUE)\n",
    "        rotate <- function(x) t(apply(x, 2, rev))\n",
    "        #png(\"p4s.png\")\n",
    "        #par(mar = c(0,0,0,0))\n",
    "        #image(rotate(zona), col=rainbow(k+1), xaxt='n', yaxt='n')\n",
    "        #graphics.off()\n",
    "        #png(\"p4c.png\")\n",
    "        #par(mar = c(0,0,0,0))\n",
    "        #image(rotate(voronoi), col=rainbow(k+1), xaxt='n', yaxt='n')\n",
    "        #graphics.off()\n",
    "\n",
    "        limite <- n # grietas de que largo minimo queremos graficar (grietas de por lo menos largo n)\n",
    "\n",
    "        inicio <- function() {\n",
    "            direccion <- sample(1:4, 1)\n",
    "            xg <- NULL\n",
    "            yg <- NULL\n",
    "            if (direccion == 1) { # vertical\n",
    "                xg <- 1\n",
    "                yg <- sample(1:n, 1)\n",
    "            } else if (direccion == 2) { # horiz izq -> der\n",
    "                xg <- sample(1:n, 1)\n",
    "                yg <- 1\n",
    "            } else if (direccion == 3) { # horiz der -> izq\n",
    "                xg <- n\n",
    "                yg <- sample(1:n, 1)\n",
    "            } else { # vertical al reves\n",
    "                xg <- sample(1:n, 1)\n",
    "                yg <- n\n",
    "            }\n",
    "            return(c(xg, yg))\n",
    "        }\n",
    "\n",
    "        vp <- data.frame(numeric(), numeric()) # posiciones de posibles vecinos\n",
    "        for (dx in -1:1) {\n",
    "            for (dy in -1:1) {\n",
    "                if (dx != 0 | dy != 0) { # descartar la posicion misma\n",
    "                    vp <- rbind(vp, c(dx, dy))\n",
    "                }\n",
    "            }\n",
    "        }\n",
    "        names(vp) <- c(\"dx\", \"dy\")\n",
    "        vc <- dim(vp)[1]\n",
    "\n",
    "        propaga <- function(replica) {\n",
    "            contador <- 0\n",
    "            prob <- 1 # entre fronteras\n",
    "            dificil <- 0.99 # interno a la celda\n",
    "            grieta <- voronoi # marcamos la grieta en una copia\n",
    "            i <- inicio() # posicion inicial al azar\n",
    "            xg <- i[1]\n",
    "            yg <- i[2]\n",
    "            largo <- 0\n",
    "\n",
    "            while (TRUE) { # hasta que la propagacion termine\n",
    "                grieta[yg, xg] <- 0 # usamos el cero para marcar la grieta\n",
    "                largo <-  largo + 1\n",
    "                frontera <- numeric()\n",
    "                interior <- numeric()\n",
    "\n",
    "                for (v in 1:vc) {\n",
    "                    vecino <- vp[v,]\n",
    "                    xs <- xg + vecino$dx # columna del vecino potencial\n",
    "                    ys <- yg + vecino$dy # fila del vecino potencial\n",
    "                    if (xs > 0 & xs <= n & ys > 0 & ys <= n) { # no sale de la zona\n",
    "                        if (grieta[ys, xs] > 0) { # aun no hay grieta ahi\n",
    "                            if (voronoi[yg, xg] == voronoi[ys, xs]) {\n",
    "                                interior <- c(interior, v)\n",
    "                            } else { # frontera\n",
    "                                frontera <- c(frontera, v)\n",
    "                            }\n",
    "                        }\n",
    "                    }\n",
    "                }\n",
    "\n",
    "                elegido <- 0\n",
    "\n",
    "                if (length(frontera) > 0) { # siempre tomamos frontera cuando haya\n",
    "\n",
    "                    if (length(frontera) > 1) {\n",
    "                        elegido <- sample(frontera, 1)\n",
    "                    } else {\n",
    "                        elegido <- frontera # sample sirve con un solo elemento\n",
    "                    }\n",
    "                    prob <- 1 # estamos nuevamente en la frontera\n",
    "                } else if (length(interior) > 0) { # no hubo frontera para propagar\n",
    "                    if (runif(1) < prob) { # intentamos en el interior\n",
    "                        if (length(interior) > 1) {\n",
    "                            elegido <- sample(interior, 1)\n",
    "                        } else {\n",
    "                            elegido <- interior\n",
    "                        }\n",
    "                        prob <- dificil * prob # mas dificil a la siguiente\n",
    "                    }\n",
    "                }\n",
    "                if (elegido > 0) { # si se va a propagar\n",
    "                    vecino <- vp[elegido,]\n",
    "                    xg <- xg + vecino$dx\n",
    "                    yg <- yg + vecino$dy\n",
    "                } else {\n",
    "                    break # ya no se propaga\n",
    "                }\n",
    "            }\n",
    "            if (xg==1 || xg==n || yg==1 || yg==n) {\n",
    "                contador <-contador +1\n",
    "                #png(paste(\"p4g_\", replica, \".png\", sep=\"\"))\n",
    "                #par(mar = c(0,0,0,0))\n",
    "                #image(rotate(grieta), col=rainbow(k+1), xaxt='n', yaxt='n')\n",
    "                #graphics.off()\n",
    "            }\n",
    "            return(contador)\n",
    "        }\n",
    "        suppressMessages(library(doParallel))\n",
    "        registerDoParallel(makeCluster(detectCores() - 1))\n",
    "\n",
    "        contadores <- foreach(r = 1:200, .combine=c) %dopar% propaga(r)\n",
    "        stopImplicitCluster()\n",
    "        total <- c(n,k,sum(contadores))\n",
    "        datos <- rbind(datos, total)\n",
    "    }\n",
    "}"
   ]
  },
  {
   "cell_type": "code",
   "execution_count": 154,
   "metadata": {},
   "outputs": [],
   "source": [
    "colnames(datos) <- c(\"Tamaño\", \"Semilla\", \"Cantidad de veces que se rompió\")"
   ]
  },
  {
   "cell_type": "code",
   "execution_count": 31,
   "metadata": {},
   "outputs": [],
   "source": [
    "library(xtable)"
   ]
  },
  {
   "cell_type": "code",
   "execution_count": 155,
   "metadata": {},
   "outputs": [
    {
     "name": "stdout",
     "output_type": "stream",
     "text": [
      "% latex table generated in R 4.0.2 by xtable 1.8-4 package\n",
      "% Mon Oct 12 22:57:21 2020\n",
      "\\begin{table}[ht]\n",
      "\\centering\n",
      "\\begin{tabular}{rrrr}\n",
      "  \\hline\n",
      " & Tamaño & Semilla & Cantidad de veces que se rompió \\\\ \n",
      "  \\hline\n",
      "1 & 50.00 & 100.00 & 49.00 \\\\ \n",
      "  8 & 75.00 & 150.00 & 42.00 \\\\ \n",
      "  15 & 100.00 & 200.00 & 43.00 \\\\ \n",
      "  22 & 125.00 & 250.00 & 43.00 \\\\ \n",
      "  29 & 150.00 & 300.00 & 29.00 \\\\ \n",
      "  36 & 175.00 & 350.00 & 26.00 \\\\ \n",
      "  43 & 200.00 & 400.00 & 28.00 \\\\ \n",
      "   \\hline\n",
      "\\end{tabular}\n",
      "\\end{table}\n"
     ]
    }
   ],
   "source": [
    "print(xtable(datos[c(1,8,15,22,29,36,43),]))"
   ]
  },
  {
   "cell_type": "code",
   "execution_count": 156,
   "metadata": {},
   "outputs": [
    {
     "data": {
      "text/html": [
       "<table>\n",
       "<caption>A data.frame: 49 × 3</caption>\n",
       "<thead>\n",
       "\t<tr><th scope=col>Tamaño</th><th scope=col>Semilla</th><th scope=col>Cantidad de veces que se rompió</th></tr>\n",
       "\t<tr><th scope=col>&lt;dbl&gt;</th><th scope=col>&lt;dbl&gt;</th><th scope=col>&lt;dbl&gt;</th></tr>\n",
       "</thead>\n",
       "<tbody>\n",
       "\t<tr><td> 50</td><td> 100</td><td>49</td></tr>\n",
       "\t<tr><td> 50</td><td> 200</td><td>63</td></tr>\n",
       "\t<tr><td> 50</td><td> 300</td><td>75</td></tr>\n",
       "\t<tr><td> 50</td><td> 400</td><td>79</td></tr>\n",
       "\t<tr><td> 50</td><td> 500</td><td>59</td></tr>\n",
       "\t<tr><td> 50</td><td>1000</td><td>87</td></tr>\n",
       "\t<tr><td> 50</td><td>1500</td><td>74</td></tr>\n",
       "\t<tr><td> 75</td><td> 150</td><td>42</td></tr>\n",
       "\t<tr><td> 75</td><td> 300</td><td>47</td></tr>\n",
       "\t<tr><td> 75</td><td> 450</td><td>60</td></tr>\n",
       "\t<tr><td> 75</td><td> 600</td><td>64</td></tr>\n",
       "\t<tr><td> 75</td><td> 750</td><td>57</td></tr>\n",
       "\t<tr><td> 75</td><td>1500</td><td>61</td></tr>\n",
       "\t<tr><td> 75</td><td>2250</td><td>68</td></tr>\n",
       "\t<tr><td>100</td><td> 200</td><td>43</td></tr>\n",
       "\t<tr><td>100</td><td> 400</td><td>55</td></tr>\n",
       "\t<tr><td>100</td><td> 600</td><td>52</td></tr>\n",
       "\t<tr><td>100</td><td> 800</td><td>58</td></tr>\n",
       "\t<tr><td>100</td><td>1000</td><td>59</td></tr>\n",
       "\t<tr><td>100</td><td>2000</td><td>54</td></tr>\n",
       "\t<tr><td>100</td><td>3000</td><td>66</td></tr>\n",
       "\t<tr><td>125</td><td> 250</td><td>43</td></tr>\n",
       "\t<tr><td>125</td><td> 500</td><td>41</td></tr>\n",
       "\t<tr><td>125</td><td> 750</td><td>47</td></tr>\n",
       "\t<tr><td>125</td><td>1000</td><td>37</td></tr>\n",
       "\t<tr><td>125</td><td>1250</td><td>56</td></tr>\n",
       "\t<tr><td>125</td><td>2500</td><td>52</td></tr>\n",
       "\t<tr><td>125</td><td>3750</td><td>54</td></tr>\n",
       "\t<tr><td>150</td><td> 300</td><td>29</td></tr>\n",
       "\t<tr><td>150</td><td> 600</td><td>40</td></tr>\n",
       "\t<tr><td>150</td><td> 900</td><td>38</td></tr>\n",
       "\t<tr><td>150</td><td>1200</td><td>61</td></tr>\n",
       "\t<tr><td>150</td><td>1500</td><td>44</td></tr>\n",
       "\t<tr><td>150</td><td>3000</td><td>54</td></tr>\n",
       "\t<tr><td>150</td><td>4500</td><td>61</td></tr>\n",
       "\t<tr><td>175</td><td> 350</td><td>26</td></tr>\n",
       "\t<tr><td>175</td><td> 700</td><td>35</td></tr>\n",
       "\t<tr><td>175</td><td>1050</td><td>52</td></tr>\n",
       "\t<tr><td>175</td><td>1400</td><td>52</td></tr>\n",
       "\t<tr><td>175</td><td>1750</td><td>45</td></tr>\n",
       "\t<tr><td>175</td><td>3500</td><td>44</td></tr>\n",
       "\t<tr><td>175</td><td>5250</td><td>50</td></tr>\n",
       "\t<tr><td>200</td><td> 400</td><td>28</td></tr>\n",
       "\t<tr><td>200</td><td> 800</td><td>30</td></tr>\n",
       "\t<tr><td>200</td><td>1200</td><td>41</td></tr>\n",
       "\t<tr><td>200</td><td>1600</td><td>38</td></tr>\n",
       "\t<tr><td>200</td><td>2000</td><td>35</td></tr>\n",
       "\t<tr><td>200</td><td>4000</td><td>40</td></tr>\n",
       "\t<tr><td>200</td><td>6000</td><td>54</td></tr>\n",
       "</tbody>\n",
       "</table>\n"
      ],
      "text/latex": [
       "A data.frame: 49 × 3\n",
       "\\begin{tabular}{lll}\n",
       " Tamaño & Semilla & Cantidad de veces que se rompió\\\\\n",
       " <dbl> & <dbl> & <dbl>\\\\\n",
       "\\hline\n",
       "\t  50 &  100 & 49\\\\\n",
       "\t  50 &  200 & 63\\\\\n",
       "\t  50 &  300 & 75\\\\\n",
       "\t  50 &  400 & 79\\\\\n",
       "\t  50 &  500 & 59\\\\\n",
       "\t  50 & 1000 & 87\\\\\n",
       "\t  50 & 1500 & 74\\\\\n",
       "\t  75 &  150 & 42\\\\\n",
       "\t  75 &  300 & 47\\\\\n",
       "\t  75 &  450 & 60\\\\\n",
       "\t  75 &  600 & 64\\\\\n",
       "\t  75 &  750 & 57\\\\\n",
       "\t  75 & 1500 & 61\\\\\n",
       "\t  75 & 2250 & 68\\\\\n",
       "\t 100 &  200 & 43\\\\\n",
       "\t 100 &  400 & 55\\\\\n",
       "\t 100 &  600 & 52\\\\\n",
       "\t 100 &  800 & 58\\\\\n",
       "\t 100 & 1000 & 59\\\\\n",
       "\t 100 & 2000 & 54\\\\\n",
       "\t 100 & 3000 & 66\\\\\n",
       "\t 125 &  250 & 43\\\\\n",
       "\t 125 &  500 & 41\\\\\n",
       "\t 125 &  750 & 47\\\\\n",
       "\t 125 & 1000 & 37\\\\\n",
       "\t 125 & 1250 & 56\\\\\n",
       "\t 125 & 2500 & 52\\\\\n",
       "\t 125 & 3750 & 54\\\\\n",
       "\t 150 &  300 & 29\\\\\n",
       "\t 150 &  600 & 40\\\\\n",
       "\t 150 &  900 & 38\\\\\n",
       "\t 150 & 1200 & 61\\\\\n",
       "\t 150 & 1500 & 44\\\\\n",
       "\t 150 & 3000 & 54\\\\\n",
       "\t 150 & 4500 & 61\\\\\n",
       "\t 175 &  350 & 26\\\\\n",
       "\t 175 &  700 & 35\\\\\n",
       "\t 175 & 1050 & 52\\\\\n",
       "\t 175 & 1400 & 52\\\\\n",
       "\t 175 & 1750 & 45\\\\\n",
       "\t 175 & 3500 & 44\\\\\n",
       "\t 175 & 5250 & 50\\\\\n",
       "\t 200 &  400 & 28\\\\\n",
       "\t 200 &  800 & 30\\\\\n",
       "\t 200 & 1200 & 41\\\\\n",
       "\t 200 & 1600 & 38\\\\\n",
       "\t 200 & 2000 & 35\\\\\n",
       "\t 200 & 4000 & 40\\\\\n",
       "\t 200 & 6000 & 54\\\\\n",
       "\\end{tabular}\n"
      ],
      "text/markdown": [
       "\n",
       "A data.frame: 49 × 3\n",
       "\n",
       "| Tamaño &lt;dbl&gt; | Semilla &lt;dbl&gt; | Cantidad de veces que se rompió &lt;dbl&gt; |\n",
       "|---|---|---|\n",
       "|  50 |  100 | 49 |\n",
       "|  50 |  200 | 63 |\n",
       "|  50 |  300 | 75 |\n",
       "|  50 |  400 | 79 |\n",
       "|  50 |  500 | 59 |\n",
       "|  50 | 1000 | 87 |\n",
       "|  50 | 1500 | 74 |\n",
       "|  75 |  150 | 42 |\n",
       "|  75 |  300 | 47 |\n",
       "|  75 |  450 | 60 |\n",
       "|  75 |  600 | 64 |\n",
       "|  75 |  750 | 57 |\n",
       "|  75 | 1500 | 61 |\n",
       "|  75 | 2250 | 68 |\n",
       "| 100 |  200 | 43 |\n",
       "| 100 |  400 | 55 |\n",
       "| 100 |  600 | 52 |\n",
       "| 100 |  800 | 58 |\n",
       "| 100 | 1000 | 59 |\n",
       "| 100 | 2000 | 54 |\n",
       "| 100 | 3000 | 66 |\n",
       "| 125 |  250 | 43 |\n",
       "| 125 |  500 | 41 |\n",
       "| 125 |  750 | 47 |\n",
       "| 125 | 1000 | 37 |\n",
       "| 125 | 1250 | 56 |\n",
       "| 125 | 2500 | 52 |\n",
       "| 125 | 3750 | 54 |\n",
       "| 150 |  300 | 29 |\n",
       "| 150 |  600 | 40 |\n",
       "| 150 |  900 | 38 |\n",
       "| 150 | 1200 | 61 |\n",
       "| 150 | 1500 | 44 |\n",
       "| 150 | 3000 | 54 |\n",
       "| 150 | 4500 | 61 |\n",
       "| 175 |  350 | 26 |\n",
       "| 175 |  700 | 35 |\n",
       "| 175 | 1050 | 52 |\n",
       "| 175 | 1400 | 52 |\n",
       "| 175 | 1750 | 45 |\n",
       "| 175 | 3500 | 44 |\n",
       "| 175 | 5250 | 50 |\n",
       "| 200 |  400 | 28 |\n",
       "| 200 |  800 | 30 |\n",
       "| 200 | 1200 | 41 |\n",
       "| 200 | 1600 | 38 |\n",
       "| 200 | 2000 | 35 |\n",
       "| 200 | 4000 | 40 |\n",
       "| 200 | 6000 | 54 |\n",
       "\n"
      ],
      "text/plain": [
       "   Tamaño Semilla Cantidad de veces que se rompió\n",
       "1   50     100    49                             \n",
       "2   50     200    63                             \n",
       "3   50     300    75                             \n",
       "4   50     400    79                             \n",
       "5   50     500    59                             \n",
       "6   50    1000    87                             \n",
       "7   50    1500    74                             \n",
       "8   75     150    42                             \n",
       "9   75     300    47                             \n",
       "10  75     450    60                             \n",
       "11  75     600    64                             \n",
       "12  75     750    57                             \n",
       "13  75    1500    61                             \n",
       "14  75    2250    68                             \n",
       "15 100     200    43                             \n",
       "16 100     400    55                             \n",
       "17 100     600    52                             \n",
       "18 100     800    58                             \n",
       "19 100    1000    59                             \n",
       "20 100    2000    54                             \n",
       "21 100    3000    66                             \n",
       "22 125     250    43                             \n",
       "23 125     500    41                             \n",
       "24 125     750    47                             \n",
       "25 125    1000    37                             \n",
       "26 125    1250    56                             \n",
       "27 125    2500    52                             \n",
       "28 125    3750    54                             \n",
       "29 150     300    29                             \n",
       "30 150     600    40                             \n",
       "31 150     900    38                             \n",
       "32 150    1200    61                             \n",
       "33 150    1500    44                             \n",
       "34 150    3000    54                             \n",
       "35 150    4500    61                             \n",
       "36 175     350    26                             \n",
       "37 175     700    35                             \n",
       "38 175    1050    52                             \n",
       "39 175    1400    52                             \n",
       "40 175    1750    45                             \n",
       "41 175    3500    44                             \n",
       "42 175    5250    50                             \n",
       "43 200     400    28                             \n",
       "44 200     800    30                             \n",
       "45 200    1200    41                             \n",
       "46 200    1600    38                             \n",
       "47 200    2000    35                             \n",
       "48 200    4000    40                             \n",
       "49 200    6000    54                             "
      ]
     },
     "metadata": {},
     "output_type": "display_data"
    }
   ],
   "source": [
    "datos"
   ]
  },
  {
   "cell_type": "markdown",
   "metadata": {},
   "source": [
    "### Creación de imágenes a partir del data.frame()"
   ]
  },
  {
   "cell_type": "code",
   "execution_count": 157,
   "metadata": {},
   "outputs": [
    {
     "data": {
      "text/html": [
       "<strong>pdf:</strong> 2"
      ],
      "text/latex": [
       "\\textbf{pdf:} 2"
      ],
      "text/markdown": [
       "**pdf:** 2"
      ],
      "text/plain": [
       "pdf \n",
       "  2 "
      ]
     },
     "metadata": {},
     "output_type": "display_data"
    }
   ],
   "source": [
    "png(file=\"50.png\",\n",
    "    width=3000, height=3000, res = 400)\n",
    "par(mar=c(5,5,5,3))\n",
    "barplot(datos[1:7,3], names.arg = datos[1:7,2], las=1, \n",
    "        xlab = \"Cantidad de Semillas\", \n",
    "        ylab=\"Cantidad de piezas rotas\", \n",
    "        col=rainbow(7), border=rainbow(7), ylim=c(0,100),\n",
    "        font.lab=1, cex.lab=1.7)\n",
    "dev.off()"
   ]
  },
  {
   "cell_type": "code",
   "execution_count": 158,
   "metadata": {},
   "outputs": [
    {
     "data": {
      "text/html": [
       "<strong>pdf:</strong> 2"
      ],
      "text/latex": [
       "\\textbf{pdf:} 2"
      ],
      "text/markdown": [
       "**pdf:** 2"
      ],
      "text/plain": [
       "pdf \n",
       "  2 "
      ]
     },
     "metadata": {},
     "output_type": "display_data"
    }
   ],
   "source": [
    "png(file=\"75.png\",\n",
    "    width=3000, height=3000, res = 400)\n",
    "par(mar=c(5,5,5,3))\n",
    "barplot(datos[8:14,3], names.arg = datos[8:14,2], las=1, \n",
    "        xlab = \"Cantidad de Semillas\", \n",
    "        ylab=\"Cantidad de piezas rotas\",\n",
    "        col=rainbow(7), border=rainbow(7),ylim=c(0,100), \n",
    "        font.lab=1, cex.lab=1.7)\n",
    "dev.off()"
   ]
  },
  {
   "cell_type": "code",
   "execution_count": 159,
   "metadata": {},
   "outputs": [
    {
     "data": {
      "text/html": [
       "<strong>pdf:</strong> 2"
      ],
      "text/latex": [
       "\\textbf{pdf:} 2"
      ],
      "text/markdown": [
       "**pdf:** 2"
      ],
      "text/plain": [
       "pdf \n",
       "  2 "
      ]
     },
     "metadata": {},
     "output_type": "display_data"
    }
   ],
   "source": [
    "png(file=\"100.png\",\n",
    "    width=3000, height=3000, res = 400)\n",
    "par(mar=c(5,5,5,3))\n",
    "barplot(datos[15:21,3], names.arg = datos[15:21,2], las=1, \n",
    "        xlab = \"Cantidad de Semillas\", \n",
    "        ylab=\"Cantidad de piezas rotas\",\n",
    "        col=rainbow(7), border=rainbow(7),ylim=c(0,100), \n",
    "        font.lab=1, cex.lab=1.7)\n",
    "dev.off()"
   ]
  },
  {
   "cell_type": "code",
   "execution_count": 160,
   "metadata": {},
   "outputs": [
    {
     "data": {
      "text/html": [
       "<strong>pdf:</strong> 2"
      ],
      "text/latex": [
       "\\textbf{pdf:} 2"
      ],
      "text/markdown": [
       "**pdf:** 2"
      ],
      "text/plain": [
       "pdf \n",
       "  2 "
      ]
     },
     "metadata": {},
     "output_type": "display_data"
    }
   ],
   "source": [
    "png(file=\"125.png\",\n",
    "    width=3000, height=3000, res = 400)\n",
    "par(mar=c(5,5,5,3))\n",
    "barplot(datos[22:28,3], names.arg = datos[22:28,2], las=1, \n",
    "        xlab = \"Cantidad de Semillas\", \n",
    "        ylab=\"Cantidad de piezas rotas\",\n",
    "        col=rainbow(7), border=rainbow(7),ylim=c(0,100), \n",
    "        font.lab=1, cex.lab=1.7)\n",
    "dev.off()"
   ]
  },
  {
   "cell_type": "code",
   "execution_count": 161,
   "metadata": {},
   "outputs": [
    {
     "data": {
      "text/html": [
       "<strong>pdf:</strong> 2"
      ],
      "text/latex": [
       "\\textbf{pdf:} 2"
      ],
      "text/markdown": [
       "**pdf:** 2"
      ],
      "text/plain": [
       "pdf \n",
       "  2 "
      ]
     },
     "metadata": {},
     "output_type": "display_data"
    }
   ],
   "source": [
    "png(file=\"150.png\",\n",
    "    width=3000, height=3000, res = 400)\n",
    "par(mar=c(5,5,5,3))\n",
    "barplot(datos[29:35,3], names.arg = datos[29:35,2], las=1, \n",
    "        xlab = \"Cantidad de Semillas\", \n",
    "        ylab=\"Cantidad de piezas rotas\",\n",
    "        col=rainbow(7), border=rainbow(7),ylim=c(0,100), \n",
    "        font.lab=1, cex.lab=1.7)\n",
    "dev.off()"
   ]
  },
  {
   "cell_type": "code",
   "execution_count": 162,
   "metadata": {},
   "outputs": [
    {
     "data": {
      "text/html": [
       "<strong>pdf:</strong> 2"
      ],
      "text/latex": [
       "\\textbf{pdf:} 2"
      ],
      "text/markdown": [
       "**pdf:** 2"
      ],
      "text/plain": [
       "pdf \n",
       "  2 "
      ]
     },
     "metadata": {},
     "output_type": "display_data"
    }
   ],
   "source": [
    "png(file=\"175.png\",\n",
    "    width=3000, height=3000, res = 400)\n",
    "par(mar=c(5,5,5,3))\n",
    "barplot(datos[36:42,3], names.arg = datos[36:42,2], las=1, \n",
    "        xlab = \"Cantidad de Semillas\", \n",
    "        ylab=\"Cantidad de piezas rotas\",\n",
    "        col=rainbow(7), border=rainbow(7),ylim=c(0,100), \n",
    "        font.lab=1, cex.lab=1.7)\n",
    "dev.off()"
   ]
  },
  {
   "cell_type": "code",
   "execution_count": 122,
   "metadata": {},
   "outputs": [
    {
     "data": {
      "text/html": [
       "<strong>pdf:</strong> 2"
      ],
      "text/latex": [
       "\\textbf{pdf:} 2"
      ],
      "text/markdown": [
       "**pdf:** 2"
      ],
      "text/plain": [
       "pdf \n",
       "  2 "
      ]
     },
     "metadata": {},
     "output_type": "display_data"
    }
   ],
   "source": [
    "png(file=\"200.png\",\n",
    "    width=3000, height=3000, res = 400)\n",
    "par(mar=c(5,5,5,3))\n",
    "barplot(datos[43:49,3], names.arg = datos[43:49,2], las=1, \n",
    "        xlab = \"Cantidad de Semillas\", \n",
    "        ylab=\"Cantidad de piezas rotas\",\n",
    "        col=rainbow(7), border=rainbow(7),ylim=c(0,100), \n",
    "        font.lab=1, cex.lab=1.7)\n",
    "dev.off()"
   ]
  },
  {
   "cell_type": "markdown",
   "metadata": {},
   "source": [
    "### Pruebas de correlación"
   ]
  },
  {
   "cell_type": "code",
   "execution_count": 163,
   "metadata": {},
   "outputs": [
    {
     "data": {
      "text/plain": [
       "\n",
       "\tPearson's product-moment correlation\n",
       "\n",
       "data:  datos$Semilla and datos$`Cantidad de veces que se rompió`\n",
       "t = 0.61036, df = 47, p-value = 0.5446\n",
       "alternative hypothesis: true correlation is not equal to 0\n",
       "95 percent confidence interval:\n",
       " -0.1974405  0.3608772\n",
       "sample estimates:\n",
       "       cor \n",
       "0.08867956 \n"
      ]
     },
     "metadata": {},
     "output_type": "display_data"
    }
   ],
   "source": [
    "cor.test(datos$`Semilla`,datos$`Cantidad de veces que se rompió`)"
   ]
  },
  {
   "cell_type": "code",
   "execution_count": 164,
   "metadata": {},
   "outputs": [
    {
     "data": {
      "text/plain": [
       "\n",
       "\tPearson's product-moment correlation\n",
       "\n",
       "data:  datos$Tamaño and datos$`Cantidad de veces que se rompió`\n",
       "t = -6.7111, df = 47, p-value = 2.244e-08\n",
       "alternative hypothesis: true correlation is not equal to 0\n",
       "95 percent confidence interval:\n",
       " -0.8195231 -0.5207744\n",
       "sample estimates:\n",
       "       cor \n",
       "-0.6995316 \n"
      ]
     },
     "metadata": {},
     "output_type": "display_data"
    }
   ],
   "source": [
    "cor.test(datos$`Tamaño`,datos$`Cantidad de veces que se rompió`)"
   ]
  },
  {
   "cell_type": "code",
   "execution_count": 319,
   "metadata": {},
   "outputs": [
    {
     "data": {
      "image/png": "[encoded data removed]",
      "text/plain": [
       "plot without title"
      ]
     },
     "metadata": {
      "image/png": {
       "height": 420,
       "width": 420
      }
     },
     "output_type": "display_data"
    }
   ],
   "source": [
    "plot(x=datos$`Tamaño`, y=datos$`Cantidad de veces que se rompió`)"
   ]
  }
 ],
 "metadata": {
  "kernelspec": {
   "display_name": "R",
   "language": "R",
   "name": "ir"
  },
  "language_info": {
   "codemirror_mode": "r",
   "file_extension": ".r",
   "mimetype": "text/x-r-source",
   "name": "R",
   "pygments_lexer": "r",
   "version": "4.0.2"
  }
 },
 "nbformat": 4,
 "nbformat_minor": 4
}

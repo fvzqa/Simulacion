{
 "cells": [
  {
   "cell_type": "markdown",
   "metadata": {},
   "source": [
    "# Práctica 6: Sistema multiagente"
   ]
  },
  {
   "cell_type": "markdown",
   "metadata": {},
   "source": [
    "**S**: Suceptible      **I**: Infectado      **R**: Recuperado"
   ]
  },
  {
   "cell_type": "markdown",
   "metadata": {},
   "source": [
    "### Variación para la Tarea"
   ]
  },
  {
   "cell_type": "code",
   "execution_count": 4,
   "metadata": {},
   "outputs": [],
   "source": [
    "l <- 1.5\n",
    "n <- 50\n",
    "pi <- 0.05\n",
    "pr <- 0.02\n",
    "pv <- 0.1\n",
    "v <- l / 30\n",
    "\n",
    "contagios <- function(){\n",
    "agentes <- data.frame(x = double(), y = double(),\n",
    "                      dx = double(), dy = double(),\n",
    "                      estado  = character())\n",
    "for (i in 1:n) {\n",
    "    e <- \"S\"\n",
    "    \n",
    "    if (runif(1) < pv) {\n",
    "        e <- \"V\"\n",
    "    }\n",
    "    \n",
    "    if (runif(1) < pi && e!=\"V\") {\n",
    "        e <- \"I\"\n",
    "    }\n",
    "    agentes <- rbind(agentes, data.frame(x = runif(1, 0, l),\n",
    "                                         y = runif(1, 0, l),\n",
    "                                         dx = runif(1, -v, v),\n",
    "                                         dy = runif(1, -v, v),\n",
    "                                         estado = e))\n",
    " \n",
    "}\n",
    "levels(agentes$estado) <- c(\"S\", \"I\", \"R\", \"V\")\n",
    "epidemia <- integer()\n",
    "r <- 0.1\n",
    "tmax <- 100\n",
    "#digitos <- floor(log(tmax, 10)) + 1\n",
    "for (tiempo in 1:tmax) {\n",
    "    infectados <- dim(agentes[agentes$estado == \"I\",])[1]\n",
    "    epidemia <- c(epidemia, infectados)\n",
    "    if (infectados == 0) {\n",
    "        break\n",
    "    }\n",
    "    contagios <- rep(FALSE, n)\n",
    "    for (i in 1:n) { # posibles contagios\n",
    "        a1 <- agentes[i, ]\n",
    "        if (a1$estado == \"I\") { # desde los infectados\n",
    "            for (j in 1:n) {\n",
    "                if (!contagios[j]) { # aun sin contagio\n",
    "                    a2 <- agentes[j, ]\n",
    "                    if (a2$estado == \"S\") { # hacia los susceptibles\n",
    "                        dx <- a1$x - a2$x\n",
    "                        dy <- a1$y - a2$y\n",
    "                        d <- sqrt(dx^2 + dy^2)\n",
    "                        if (d < r) { # umbral\n",
    "                            p <- (r - d) / r\n",
    "                            if (runif(1) < p) {\n",
    "                                contagios[j] <- TRUE\n",
    "                            }\n",
    "                        }\n",
    "                    }\n",
    "                }\n",
    "            }\n",
    "        }\n",
    "    }\n",
    "    for (i in 1:n) { # movimientos y actualizaciones\n",
    "        a <- agentes[i, ]\n",
    "        if (contagios[i]) {\n",
    "            a$estado <- \"I\"\n",
    "        } else if (a$estado == \"I\") { # ya estaba infectado\n",
    "            if (runif(1) < pr) {\n",
    "                a$estado <- \"R\" # recupera\n",
    "            }\n",
    "        }\n",
    "        a$x <- a$x + a$dx\n",
    "        a$y <- a$y + a$dy\n",
    "        if (a$x > l) {\n",
    "            a$x <- a$x - l\n",
    "        }\n",
    "        if (a$y > l) {\n",
    "            a$y <- a$y - l\n",
    "        }\n",
    "        if (a$x < 0) {\n",
    "            a$x <- a$x + l\n",
    "        }\n",
    "        if (a$y < 0) {\n",
    "            a$y <- a$y + l\n",
    "        }\n",
    "        agentes[i, ] <- a\n",
    "    }\n",
    "}\n",
    "return(epidemia)\n",
    "}"
   ]
  },
  {
   "cell_type": "code",
   "execution_count": 5,
   "metadata": {},
   "outputs": [],
   "source": [
    "\n",
    "datos=data.frame()\n",
    "for(pv in seq(0,1,0.05)){ \n",
    "    for (i in 1:100){\n",
    "        epi <- contagios()\n",
    "        datos <- rbind(datos, c(i, pv, max(epi*100/n), which.max(epi)))\n",
    "    }\n",
    "}\n"
   ]
  },
  {
   "cell_type": "code",
   "execution_count": 21,
   "metadata": {},
   "outputs": [
    {
     "name": "stdout",
     "output_type": "stream",
     "text": [
      "% latex table generated in R 4.0.2 by xtable 1.8-4 package\n",
      "% Tue Oct 27 17:55:32 2020\n",
      "\\begin{table}[ht]\n",
      "\\centering\n",
      "\\begin{tabular}{rrrrr}\n",
      "  \\hline\n",
      " & Iteración & PV & Porcentaje & MAX ITER \\\\ \n",
      "  \\hline\n",
      "1 & 1.00 & 0.00 & 62.00 & 48.00 \\\\ \n",
      "  120 & 20.00 & 0.05 & 58.00 & 51.00 \\\\ \n",
      "  502 & 2.00 & 0.25 & 48.00 & 57.00 \\\\ \n",
      "  902 & 2.00 & 0.45 & 24.00 & 35.00 \\\\ \n",
      "  2005 & 5.00 & 1.00 & 0.00 & 1.00 \\\\ \n",
      "   \\hline\n",
      "\\end{tabular}\n",
      "\\end{table}\n"
     ]
    }
   ],
   "source": [
    "print(xtable::xtable(datos[c(1,120,502,902,2005),]))"
   ]
  },
  {
   "cell_type": "code",
   "execution_count": 8,
   "metadata": {},
   "outputs": [],
   "source": [
    "names(datos)=c(\"Iteración\",\"PV\",\"Porcentaje\", \"MAX ITER\")"
   ]
  },
  {
   "cell_type": "code",
   "execution_count": 11,
   "metadata": {},
   "outputs": [
    {
     "data": {
      "text/html": [
       "<strong>pdf:</strong> 2"
      ],
      "text/latex": [
       "\\textbf{pdf:} 2"
      ],
      "text/markdown": [
       "**pdf:** 2"
      ],
      "text/plain": [
       "pdf \n",
       "  2 "
      ]
     },
     "metadata": {},
     "output_type": "display_data"
    }
   ],
   "source": [
    "png(file=\"max_iter.png\",\n",
    "    width=5700, height=2000, res = 200)\n",
    "par(mar = c(5,5,5,5))\n",
    "boxplot(datos[1:100,4], datos[101:200,4], datos[201:300,4], datos[301:400,4], datos[401:500,4],\n",
    "        datos[501:600,4], datos[601:700,4], datos[701:800,4], datos[801:900,4], datos[901:1000,4], datos[1001:1100,4],\n",
    "        datos[1101:1200,4], datos[1201:1300,4], datos[1301:1400,4], datos[1401:1500,4], datos[1501:1600,4], \n",
    "        datos[1601:1700,4], datos[1701:1800,4], datos[1801:1900,4], datos[1901:2000,4], datos[2001:2100,4],\n",
    "        names=seq(0,1,0.05), col=palette(\"Pastel 2\"), ylab=\"Iteración donde se alcanzó el máximo porcentaje de contagiados\", xlab=\"Probabilidad de vacuna\",\n",
    "       cex.axis=1.6, cex.lab=2)\n",
    "dev.off()"
   ]
  },
  {
   "cell_type": "code",
   "execution_count": 87,
   "metadata": {},
   "outputs": [
    {
     "data": {
      "text/html": [
       "<strong>pdf:</strong> 2"
      ],
      "text/latex": [
       "\\textbf{pdf:} 2"
      ],
      "text/markdown": [
       "**pdf:** 2"
      ],
      "text/plain": [
       "pdf \n",
       "  2 "
      ]
     },
     "metadata": {},
     "output_type": "display_data"
    }
   ],
   "source": [
    "png(file=\"boxplot1.png\",\n",
    "    width=5700, height=2000, res = 200)\n",
    "par(mar = c(5,5,5,5))\n",
    "boxplot(datos[1:100,3], datos[101:200,3], datos[201:300,3], datos[301:400,3], datos[401:500,3],\n",
    "        datos[501:600,3], datos[601:700,3], datos[701:800,3], datos[801:900,3], datos[901:1000,3], datos[1001:1100,3],\n",
    "        datos[1101:1200,3], datos[1201:1300,3], datos[1301:1400,3], datos[1401:1500,3], datos[1501:1600,3], \n",
    "        datos[1601:1700,3], datos[1701:1800,3], datos[1801:1900,3], datos[1901:2000,3], datos[2001:2100,3],\n",
    "        names=seq(0,1,0.05), col=palette(\"Pastel 2\"), ylab=\"Porcentaje máximo de contagiados\", xlab=\"Probabilidad de vacuna\",\n",
    "       cex.axis=1.6, cex.lab=2)\n",
    "dev.off()"
   ]
  },
  {
   "cell_type": "code",
   "execution_count": 10,
   "metadata": {},
   "outputs": [
    {
     "data": {
      "text/plain": [
       "\n",
       "\tPearson's product-moment correlation\n",
       "\n",
       "data:  datos$PV and datos$Porcentaje\n",
       "t = -55.98, df = 2098, p-value < 2.2e-16\n",
       "alternative hypothesis: true correlation is not equal to 0\n",
       "95 percent confidence interval:\n",
       " -0.7905482 -0.7562048\n",
       "sample estimates:\n",
       "      cor \n",
       "-0.773945 \n"
      ]
     },
     "metadata": {},
     "output_type": "display_data"
    }
   ],
   "source": [
    "cor.test(datos$PV, datos$Porcentaje)"
   ]
  },
  {
   "cell_type": "markdown",
   "metadata": {},
   "source": [
    "## Reto 1:"
   ]
  },
  {
   "cell_type": "code",
   "execution_count": 103,
   "metadata": {},
   "outputs": [],
   "source": [
    "l <- 1.5\n",
    "n <- 50\n",
    "pi <- 0.05\n",
    "pr <- 0.02\n",
    "pv <- 0.1\n",
    "\n",
    "contagios_1 <- function(){\n",
    "agentes <- data.frame(x = double(), y = double(),\n",
    "                      xmeta =double(), ymeta=double(),\n",
    "                      v=double(),\n",
    "                      estado  = character())\n",
    "for (i in 1:n) {\n",
    "    e <- \"S\"\n",
    "    \n",
    "    if (runif(1) < pv) {\n",
    "        e <- \"V\"\n",
    "    }\n",
    "    \n",
    "    if (runif(1) < pi && e!=\"V\") {\n",
    "        e <- \"I\"\n",
    "    }\n",
    "    agentes <- rbind(agentes, data.frame(x = runif(1, 0, l),\n",
    "                                         y = runif(1, 0, l),\n",
    "                                         xmeta = runif(1,0,l),\n",
    "                                         ymeta = runif(1,0,l),\n",
    "                                         estado = e))\n",
    "    }\n",
    "    dx <- c()\n",
    "    dy <- c()\n",
    "    for (i in 1:50){\n",
    "        dx[i] <- abs(agentes$x[i] - agentes$xmeta[i]) /10\n",
    "        dy[i] <- abs(agentes$y[i] - agentes$ymeta[i]) /10\n",
    "    }\n",
    "  agentes <- cbind(agentes,dx)\n",
    "  agentes <- cbind(agentes,dy)\n",
    "\n",
    " \n",
    "\n",
    "levels(agentes$estado) <- c(\"S\", \"I\", \"R\", \"V\")\n",
    "epidemia <- integer()\n",
    "r <- 0.1\n",
    "tmax <- 100\n",
    "digitos <- floor(log(tmax, 10)) + 1\n",
    "for (tiempo in 1:tmax) {\n",
    "    infectados <- dim(agentes[agentes$estado == \"I\",])[1]\n",
    "    epidemia <- c(epidemia, infectados)\n",
    "    if (infectados == 0) {\n",
    "        break\n",
    "    }\n",
    "    contagios <- rep(FALSE, n)\n",
    "    for (i in 1:n) { # posibles contagios\n",
    "        a1 <- agentes[i, ]\n",
    "        if (a1$estado == \"I\") { # desde los infectados\n",
    "            for (j in 1:n) {\n",
    "                if (!contagios[j]) { # aun sin contagio\n",
    "                    a2 <- agentes[j, ]\n",
    "                    if (a2$estado == \"S\") { # hacia los susceptibles\n",
    "                        dx <- a1$x - a2$x\n",
    "                        dy <- a1$y - a2$y\n",
    "                        d <- sqrt(dx^2 + dy^2)\n",
    "                        if (d < r) { # umbral\n",
    "                            p <- (r - d) / r\n",
    "                            if (runif(1) < p) {\n",
    "                                contagios[j] <- TRUE\n",
    "                            }\n",
    "                        }\n",
    "                    }\n",
    "                }\n",
    "            }\n",
    "        }\n",
    "    }\n",
    "    for (i in 1:n) { # movimientos y actualizaciones\n",
    "        a <- agentes[i, ]\n",
    "        if (contagios[i]) {\n",
    "            a$estado <- \"I\"\n",
    "        } else if (a$estado == \"I\") { # ya estaba infectado\n",
    "            if (runif(1) < pr) {\n",
    "                a$estado <- \"R\" # recupera\n",
    "            }\n",
    "        }\n",
    "        \n",
    "    if (round(a$x,7)==round(a$xmeta,7) && round(a$y,7)==round(a$ymeta,7)){\n",
    "            a$xmeta <-runif(1,0,l)\n",
    "            a$ymeta <- runif(1,0,l)\n",
    "            a$dx <- abs(a$x-a$xmeta)/10\n",
    "            a$dy <- abs(a$y-a$ymeta)/10\n",
    "        \n",
    "            \n",
    "            if(a$x < a$xmeta){a$x <- a$x + a$dx}\n",
    "            else{a$x<-a$x-a$dx}\n",
    "        \n",
    "            if(a$y<a$ymeta){a$y <- a$y + a$dy}\n",
    "            else{a$y<-a$y-a$dy}\n",
    "            \n",
    "            }\n",
    "    else{\n",
    "        if(a$x < a$xmeta){a$x <- a$x + a$dx}\n",
    "        else{a$x<-a$x-a$dx}\n",
    "        \n",
    "        if(a$y<a$ymeta){a$y <- a$y + a$dy}\n",
    "        else{a$y<-a$y-a$dy}\n",
    "        }\n",
    "        agentes[i, ] <- a\n",
    "        }\n",
    "    \n",
    "    aS <- agentes[agentes$estado == \"S\",]\n",
    "    aI <- agentes[agentes$estado == \"I\",]\n",
    "    aR <- agentes[agentes$estado == \"R\",]\n",
    "    aV <- agentes[agentes$estado == \"V\",]\n",
    "    tl <- paste(tiempo, \"\", sep=\"\")\n",
    "    while (nchar(tl) < digitos) {\n",
    "        tl <- paste(\"0\", tl, sep=\"\")\n",
    "    }\n",
    "    salida <- paste(\"p6_t\", tl, \".png\", sep=\"\")\n",
    "    tiempo <- paste(\"Paso\", tiempo)\n",
    "    png(salida)\n",
    "    plot(l, type=\"n\", main=tiempo, xlim=c(0, l), ylim=c(0, l), xlab=\"x\", ylab=\"y\")\n",
    "    if (dim(aS)[1] > 0) {\n",
    "        points(aS$x, aS$y, pch=15, col=\"chartreuse3\", bg=\"chartreuse3\")\n",
    "    }\n",
    "    if (dim(aI)[1] > 0) {\n",
    "        points(aI$x, aI$y, pch=16, col=\"firebrick2\", bg=\"firebrick2\")\n",
    "    }\n",
    "    if (dim(aR)[1] > 0) {\n",
    "        points(aR$x, aR$y, pch=17, col=\"goldenrod\", bg=\"goldenrod\")\n",
    "    }\n",
    "    if (dim(aV)[1] > 0) {\n",
    "        points(aV$x, aV$y, pch=18, col=\"lightseagreen\", bg=\"lightseagreen\")\n",
    "    }\n",
    "    graphics.off()\n",
    "}\n",
    "\n",
    "\n",
    "return(epidemia)\n",
    "}"
   ]
  },
  {
   "cell_type": "code",
   "execution_count": 53,
   "metadata": {},
   "outputs": [],
   "source": [
    "\n",
    "for(pv in seq(0,1,0.05)){\n",
    "    for (i in 1:100){\n",
    "        epi <- contagios_1()\n",
    "        datos_1 <- rbind(datos_1, c(i, pv, max(epi*100/n), which.max(epi)))\n",
    "    }\n",
    "}\n"
   ]
  },
  {
   "cell_type": "code",
   "execution_count": 54,
   "metadata": {},
   "outputs": [],
   "source": [
    "\n",
    "for(pv in seq(0.15,0.95,0.1)){\n",
    "    for (i in 1:100){\n",
    "        epi <- contagios_1()\n",
    "        datos_1 <- rbind(datos_1, c(i, pv, max(epi*100/n), which.max(epi)))\n",
    "    }\n",
    "}\n"
   ]
  },
  {
   "cell_type": "code",
   "execution_count": 86,
   "metadata": {},
   "outputs": [
    {
     "data": {
      "text/html": [
       "<strong>pdf:</strong> 2"
      ],
      "text/latex": [
       "\\textbf{pdf:} 2"
      ],
      "text/markdown": [
       "**pdf:** 2"
      ],
      "text/plain": [
       "pdf \n",
       "  2 "
      ]
     },
     "metadata": {},
     "output_type": "display_data"
    }
   ],
   "source": [
    "png(file=\"boxplot_reto1.png\",\n",
    "    width=5700, height=2000, res = 200)\n",
    "par(mar = c(5,5,5,5))\n",
    "boxplot(datos_1[1:100,3], datos_1[101:200,3], datos_1[201:300,3], datos_1[1201:1300,3], datos_1[301:400,3], datos_1[1301:1400,3],\n",
    "        datos_1[401:500,3], datos_1[1401:1500,3], datos_1[501:600,3], datos_1[1501:1600,3], datos_1[601:700,3], datos_1[1601:1700,3],\n",
    "        datos_1[701:800,3], datos_1[1701:1800,3], datos_1[801:900,3], datos_1[1801:1900,3], datos_1[901:1000,3], datos_1[1901:2000,3],\n",
    "        datos_1[1001:1100,3], datos_1[2001:2100,3], datos_1[1101:1200,3],     \n",
    "        names=seq(0,1,0.05), col=palette(\"Pastel 2\"), ylab=\"Porcentaje máximo de contagiados\", xlab=\"Probabilidad de vacuna\",\n",
    "       cex.axis=1.6, cex.lab=2)\n",
    "dev.off()"
   ]
  },
  {
   "cell_type": "code",
   "execution_count": 89,
   "metadata": {},
   "outputs": [
    {
     "data": {
      "text/html": [
       "<strong>pdf:</strong> 2"
      ],
      "text/latex": [
       "\\textbf{pdf:} 2"
      ],
      "text/markdown": [
       "**pdf:** 2"
      ],
      "text/plain": [
       "pdf \n",
       "  2 "
      ]
     },
     "metadata": {},
     "output_type": "display_data"
    }
   ],
   "source": [
    "png(file=\"maxiter_reto1.png\",\n",
    "    width=5700, height=2000, res = 200)\n",
    "par(mar = c(5,5,5,5))\n",
    "boxplot(datos_1[1:100,4], datos_1[101:200,4], datos_1[201:300,4], datos_1[1201:1300,4], datos_1[301:400,4], datos_1[1301:1400,4],\n",
    "        datos_1[401:500,4], datos_1[1401:1500,4], datos_1[501:600,4], datos_1[1501:1600,4], datos_1[601:700,4], datos_1[1601:1700,4],\n",
    "        datos_1[701:800,4], datos_1[1701:1800,4], datos_1[801:900,4], datos_1[1801:1900,4], datos_1[901:1000,4], datos_1[1901:2000,4],\n",
    "        datos_1[1001:1100,4], datos_1[2001:2100,4], datos_1[1101:1200,4],     \n",
    "        names=seq(0,1,0.05), col=palette(\"Pastel 2\"), ylab=\"Iteración donde se alcanzó el máximo porcentaje de contagiados\", xlab=\"Probabilidad de vacuna\",\n",
    "       cex.axis=1.6, cex.lab=2)\n",
    "dev.off()"
   ]
  },
  {
   "cell_type": "code",
   "execution_count": 91,
   "metadata": {},
   "outputs": [],
   "source": [
    "names(datos_1)=c(\"Iteración\",\"PV\",\"Porcentaje\", \"MAX ITER\")"
   ]
  },
  {
   "cell_type": "code",
   "execution_count": 92,
   "metadata": {},
   "outputs": [
    {
     "data": {
      "text/plain": [
       "\n",
       "\tPearson's product-moment correlation\n",
       "\n",
       "data:  datos_1$PV and datos_1$Porcentaje\n",
       "t = -54.801, df = 2098, p-value < 2.2e-16\n",
       "alternative hypothesis: true correlation is not equal to 0\n",
       "95 percent confidence interval:\n",
       " -0.7843157 -0.7490935\n",
       "sample estimates:\n",
       "       cor \n",
       "-0.7672826 \n"
      ]
     },
     "metadata": {},
     "output_type": "display_data"
    }
   ],
   "source": [
    "cor.test(datos_1$PV, datos_1$Porcentaje)"
   ]
  }
 ],
 "metadata": {
  "kernelspec": {
   "display_name": "R",
   "language": "R",
   "name": "ir"
  },
  "language_info": {
   "codemirror_mode": "r",
   "file_extension": ".r",
   "mimetype": "text/x-r-source",
   "name": "R",
   "pygments_lexer": "r",
   "version": "4.0.2"
  }
 },
 "nbformat": 4,
 "nbformat_minor": 4
}

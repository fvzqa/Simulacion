{
 "cells": [
  {
   "cell_type": "markdown",
   "metadata": {},
   "source": [
    "# Tarea 8: Modelo de urnas"
   ]
  },
  {
   "cell_type": "markdown",
   "metadata": {},
   "source": [
    "En este experimento se tiene una cantidad ```k``` de cúmulos y una cantidad ```n```de partículas, cumpliendo la condición de que si se suman las partículas contenidas en cada uno de los ```k```cúmulos esto da exactamente ```n```."
   ]
  },
  {
   "cell_type": "markdown",
   "metadata": {},
   "source": [
    "Se trabaja con la función ```modelournas```, la cual está basada en el código de Schaeffer (https://github.com/satuelisa/Simulation/blob/master/UrnModel/aggrFrag.R), que depende de los parámetros ```k```, ```n```y ```duracion``` (la cuál es la cantidad de pasos que realiza la simulación), dicha función calcula el porcentaje de cúmulos que tienen una cantidad de partículas mayores a ```c```, donde este valor es la media de los cúmulos formados al inicio del proceso."
   ]
  },
  {
   "cell_type": "code",
   "execution_count": 52,
   "metadata": {},
   "outputs": [],
   "source": [
    "modelournas <- function(k, n, duracion){\n",
    "    originales <- rnorm(k)\n",
    "    cumulos <- originales - min(originales) + 1\n",
    "    cumulos <- round(n * cumulos / sum(cumulos))\n",
    "    assert(min(cumulos) > 0)\n",
    "    diferencia <- n - sum(cumulos)\n",
    "    if (diferencia > 0) {\n",
    "        for (i in 1:diferencia) {\n",
    "            p <- sample(1:k, 1)\n",
    "            cumulos[p] <- cumulos[p] + 1\n",
    "        }\n",
    "    } else if (diferencia < 0) {\n",
    "        for (i in 1:-diferencia) {\n",
    "            p <- sample(1:k, 1)\n",
    "            if (cumulos[p] > 1) {\n",
    "                cumulos[p] <- cumulos[p] - 1\n",
    "            }\n",
    "        }\n",
    "    }\n",
    "    assert(length(cumulos[cumulos == 0]) == 0) # que no haya vacios\n",
    "    assert(sum(cumulos) == n)\n",
    "    c <- median(cumulos) # tamanio critico de cumulos\n",
    "    d <- sd(cumulos) / 4 # factor arbitrario para suavizar la curva\n",
    "    rotura <- function(x) {\n",
    "        return (1 / (1 + exp((c - x) / d)))\n",
    "    }\n",
    "    union <- function(x) {\n",
    "        return (exp(-x / c))\n",
    "    }\n",
    "    romperse <- function(tam, cuantos) {\n",
    "        romper <- round(rotura(tam) * cuantos) # independientes\n",
    "        resultado <- rep(tam, cuantos - romper) # los demas\n",
    "        if (romper > 0) {\n",
    "            for (cumulo in 1:romper) { # agregar las rotas\n",
    "                t <- 1\n",
    "                if (tam > 2) { # sample no jala con un solo valor\n",
    "                    t <- sample(1:(tam-1), 1)\n",
    "                }\n",
    "                resultado <- c(resultado, t, tam - t)\n",
    "            }\n",
    "        }\n",
    "        assert(sum(resultado) == tam * cuantos) # no hubo perdidas\n",
    "        return(resultado)\n",
    "    }\n",
    "    unirse <- function(tam, cuantos) {\n",
    "        unir <- round(union(tam) * cuantos) # independientes\n",
    "        if (unir > 0) {\n",
    "            division <- c(rep(-tam, unir), rep(tam, cuantos - unir))\n",
    "            assert(sum(abs(division)) == tam * cuantos)\n",
    "            return(division)\n",
    "        } else {\n",
    "            return(rep(tam, cuantos))\n",
    "        }\n",
    "    }\n",
    "    freq <- as.data.frame(table(cumulos))\n",
    "    names(freq) <- c(\"tam\", \"num\")\n",
    "    freq$tam <- as.numeric(levels(freq$tam))[freq$tam]\n",
    "\n",
    "    for (paso in 1:duracion) {\n",
    "        assert(sum(cumulos) == n)\n",
    "        cumulos <- integer()\n",
    "        for (i in 1:dim(freq)[1]) { # fase de rotura\n",
    "            urna <- freq[i,]\n",
    "            if (urna$tam > 1) { # no tiene caso romper si no se puede\n",
    "                cumulos <- c(cumulos, romperse(urna$tam, urna$num))\n",
    "            } else {\n",
    "                cumulos <- c(cumulos, rep(1, urna$num))\n",
    "            }\n",
    "        }\n",
    "        assert(sum(cumulos) == n)\n",
    "        assert(length(cumulos[cumulos == 0]) == 0) # que no haya vacios\n",
    "        freq <- as.data.frame(table(cumulos)) # actualizar urnas\n",
    "        names(freq) <- c(\"tam\", \"num\")\n",
    "        freq$tam <- as.numeric(levels(freq$tam))[freq$tam]\n",
    "        assert(sum(freq$num * freq$tam) == n)\n",
    "        cumulos <- integer()\n",
    "        for (i in 1:dim(freq)[1]) { # fase de union\n",
    "            urna <- freq[i,]\n",
    "            cumulos <- c(cumulos, unirse(urna$tam, urna$num))\n",
    "        }\n",
    "        assert(sum(abs(cumulos)) == n)\n",
    "        assert(length(cumulos[cumulos == 0]) == 0) # que no haya vacios\n",
    "        juntarse <- -cumulos[cumulos < 0]\n",
    "        cumulos <- cumulos[cumulos > 0]\n",
    "        assert(sum(cumulos) + sum(juntarse) == n)\n",
    "        nt <- length(juntarse)\n",
    "        if (nt > 0) {\n",
    "            if (nt > 1) {\n",
    "                juntarse <- sample(juntarse)\n",
    "                for (i in 1:floor(nt / 2) ) {\n",
    "                    cumulos <- c(cumulos, juntarse[2*i-1] + juntarse[2*i])\n",
    "                }\n",
    "            }\n",
    "            if (nt %% 2 == 1) {\n",
    "                cumulos <- c(cumulos, juntarse[nt])\n",
    "            }\n",
    "        }\n",
    "        assert(sum(cumulos) == n)\n",
    "        freq <- as.data.frame(table(cumulos))\n",
    "        names(freq) <- c(\"tam\", \"num\")\n",
    "        freq$tam <- as.numeric(levels(freq$tam))[freq$tam]\n",
    "        assert(sum(freq$num * freq$tam) == n)\n",
    "        cum <- c()\n",
    "\n",
    "        for (i in 1:length(freq$num)){\n",
    "            if(freq$tam[i]>=c){\n",
    "                cum <- c(cum, freq$num[i])\n",
    "            }\n",
    "        }\n",
    "        a<-sum(cum)/sum(freq$num)\n",
    "\n",
    "    }\n",
    "    return(a)\n",
    "}"
   ]
  },
  {
   "cell_type": "markdown",
   "metadata": {},
   "source": [
    "Para la tarea base, se pide que se varíen los valores de los parámetros para determinar el porcentaje de los cúmulos que sí se pueden filtrar. El parámetro ```k```varía en $\\{100, 1000, 10000\\}$, ```n``` en $\\{10k, 20k, 50k, 100k, 1000k\\}$ y ```duracion```en $\\{10, 25, 50, 75, 100\\}$, cada una las posibles combinaciones se replica una cantidad de 25 veces. "
   ]
  },
  {
   "cell_type": "code",
   "execution_count": 278,
   "metadata": {},
   "outputs": [],
   "source": [
    "data <- data.frame()\n",
    "cums <- c(100, 1000, 10000, 100000, 1000000)\n",
    "parts <- c(10*cums, 20*cums, 50*cums, 100*cums, 1000*cums)\n",
    "dur <- c(10, 25, 50, 75,100)\n",
    "replicas <- 25\n",
    "\n",
    "for (k in cums){\n",
    "    for (n in parts){\n",
    "        for (duracion in dur){\n",
    "            for (j in 1:replicas){\n",
    "                    por <- modelournas(k,n,duracion)\n",
    "                    data <- rbind(data, c(k,n,duracion, j,por))\n",
    "            }\n",
    "        }\n",
    "    }\n",
    "}\n",
    "\n",
    "\n"
   ]
  },
  {
   "cell_type": "markdown",
   "metadata": {},
   "source": [
    "Con ```k=100```"
   ]
  },
  {
   "cell_type": "code",
   "execution_count": 489,
   "metadata": {},
   "outputs": [
    {
     "data": {
      "text/html": [
       "<strong>pdf:</strong> 2"
      ],
      "text/latex": [
       "\\textbf{pdf:} 2"
      ],
      "text/markdown": [
       "**pdf:** 2"
      ],
      "text/plain": [
       "pdf \n",
       "  2 "
      ]
     },
     "metadata": {},
     "output_type": "display_data"
    }
   ],
   "source": [
    "png(\"100.png\", width = 900, height = 500)\n",
    "boxplot(datos$porcentaje[1:25], datos$porcentaje[26:50], datos$porcentaje[51:75], datos$porcentaje[76:100], datos$porcentaje[101:125],\n",
    "        datos$porcentaje[126:150], datos$porcentaje[151:175], datos$porcentaje[176:200], datos$porcentaje[201:225], datos$porcentaje[226:250],\n",
    "        datos$porcentaje[251:275], datos$porcentaje[276:300], datos$porcentaje[301:325], datos$porcentaje[326:350], datos$porcentaje[351:400],\n",
    "        datos$porcentaje[401:425], datos$porcentaje[426:450], datos$porcentaje[451:475], datos$porcentaje[476:500], \n",
    "        ylab=\"Porcentaje de cúmulos filtrados\", col=c(\"pink3\",\"pink3\",\"pink3\",\"pink3\",\"pink3\",\"plum3\",\"plum3\",\"plum3\",\"plum3\",\"plum3\",\n",
    "                                                     \"lightskyblue3\",\"lightskyblue3\", \"lightskyblue3\", \"lightskyblue3\", \"lightskyblue3\",\n",
    "                                                     \"mediumaquamarine\", \"mediumaquamarine\", \"mediumaquamarine\", \"mediumaquamarine\", \"mediumaquamarine\",\n",
    "                                                     \"orange2\",\"orange2\",\"orange2\",\"orange2\",\"orange2\"), xlab=\"Duración\", names=c(10, 25, 50, 75,100,\n",
    "                                                                                                                                 10, 25, 50, 75,100,\n",
    "                                                                                                                                 10, 25, 50, 75,100,\n",
    "                                                                                                                                 10, 25, 50, 75),\n",
    "        ylim=c(0.28,0.45))\n",
    "legend(x = \"topright\", legend = c(\"10k\", \"20k\", \"50k\",\"100k\", \"1000k\"), fill = c(\"pink3\", \"plum3\", \"lightskyblue3\", \"mediumaquamarine\", \"orange2\"), \n",
    "       title = \"Partículas\")\n",
    "dev.off()"
   ]
  },
  {
   "cell_type": "markdown",
   "metadata": {},
   "source": [
    "Con ```k=1000```"
   ]
  },
  {
   "cell_type": "code",
   "execution_count": 488,
   "metadata": {},
   "outputs": [
    {
     "data": {
      "text/html": [
       "<strong>pdf:</strong> 2"
      ],
      "text/latex": [
       "\\textbf{pdf:} 2"
      ],
      "text/markdown": [
       "**pdf:** 2"
      ],
      "text/plain": [
       "pdf \n",
       "  2 "
      ]
     },
     "metadata": {},
     "output_type": "display_data"
    }
   ],
   "source": [
    "png(\"1000.png\", width = 900, height = 500)\n",
    "boxplot(datos_1$porcentaje[1:25], datos_1$porcentaje[26:50], datos_1$porcentaje[51:75], datos_1$porcentaje[76:100], datos_1$porcentaje[101:125],\n",
    "        datos_1$porcentaje[126:150], datos_1$porcentaje[151:175], datos_1$porcentaje[176:200], datos_1$porcentaje[201:225], datos_1$porcentaje[226:250],\n",
    "        datos_1$porcentaje[251:275], datos_1$porcentaje[276:300], datos_1$porcentaje[301:325], datos_1$porcentaje[326:350], datos_1$porcentaje[351:375],\n",
    "        datos_1$porcentaje[376:400], datos_1$porcentaje[401:425], datos_1$porcentaje[426:450], datos_1$porcentaje[451:475], datos_1$porcentaje[476:500], \n",
    "        datos_1$porcentaje[501:525], datos_1$porcentaje[526:550], datos_1$porcentaje[551:575], datos_1$porcentaje[576:600], datos_1$porcentaje[600:625],\n",
    "        ylab=\"Porcentaje de cúmulos filtrados\", col=c(\"pink3\",\"pink3\",\"pink3\",\"pink3\",\"pink3\",\"plum3\",\"plum3\",\"plum3\",\"plum3\",\"plum3\",\n",
    "                                                     \"lightskyblue3\",\"lightskyblue3\", \"lightskyblue3\", \"lightskyblue3\", \"lightskyblue3\",\n",
    "                                                     \"mediumaquamarine\", \"mediumaquamarine\", \"mediumaquamarine\", \"mediumaquamarine\", \"mediumaquamarine\",\n",
    "                                                     \"orange2\",\"orange2\",\"orange2\",\"orange2\",\"orange2\"), xlab=\"Duración\", names=c(10, 25, 50, 75,100,\n",
    "                                                                                                                                 10, 25, 50, 75,100,\n",
    "                                                                                                                                 10, 25, 50, 75,100,\n",
    "                                                                                                                                 10, 25, 50, 75,100,\n",
    "                                                                                                                                 10, 25, 50, 75,100),\n",
    "        ylim=c(0.28,0.45))\n",
    "legend(x = \"topright\", legend = c(\"10k\", \"20k\", \"50k\",\"100k\", \"1000k\"), fill = c(\"pink3\", \"plum3\", \"lightskyblue3\", \"mediumaquamarine\", \"orange2\"), \n",
    "       title = \"Partículas\")\n",
    "dev.off()"
   ]
  },
  {
   "cell_type": "markdown",
   "metadata": {},
   "source": [
    "Con ```k=10000```"
   ]
  },
  {
   "cell_type": "code",
   "execution_count": 487,
   "metadata": {},
   "outputs": [
    {
     "data": {
      "text/html": [
       "<strong>pdf:</strong> 2"
      ],
      "text/latex": [
       "\\textbf{pdf:} 2"
      ],
      "text/markdown": [
       "**pdf:** 2"
      ],
      "text/plain": [
       "pdf \n",
       "  2 "
      ]
     },
     "metadata": {},
     "output_type": "display_data"
    }
   ],
   "source": [
    "png(\"10000.png\", width = 900, height = 500)\n",
    "boxplot(datos_2$porcentaje[1:25], datos_2$porcentaje[26:50], datos_2$porcentaje[51:75], datos_2$porcentaje[76:100], datos_2$porcentaje[101:125],\n",
    "        datos_2$porcentaje[126:150], datos_2$porcentaje[151:175], datos_2$porcentaje[176:200], datos_2$porcentaje[201:225], datos_2$porcentaje[226:250],\n",
    "        datos_2$porcentaje[251:275], datos_2$porcentaje[276:300], datos_2$porcentaje[301:325], datos_2$porcentaje[326:350], datos_2$porcentaje[351:375],\n",
    "        datos_2$porcentaje[376:400], datos_2$porcentaje[401:425], datos_2$porcentaje[426:450], datos_2$porcentaje[451:475], datos_2$porcentaje[476:500], \n",
    "        datos_2$porcentaje[501:525], datos_2$porcentaje[526:550], datos_2$porcentaje[551:575], datos_2$porcentaje[576:600], datos_2$porcentaje[600:625],\n",
    "        ylab=\"Porcentaje de cúmulos filtrados\", col=c(\"pink3\",\"pink3\",\"pink3\",\"pink3\",\"pink3\",\"plum3\",\"plum3\",\"plum3\",\"plum3\",\"plum3\",\n",
    "                                                     \"lightskyblue3\",\"lightskyblue3\", \"lightskyblue3\", \"lightskyblue3\", \"lightskyblue3\",\n",
    "                                                     \"mediumaquamarine\", \"mediumaquamarine\", \"mediumaquamarine\", \"mediumaquamarine\", \"mediumaquamarine\",\n",
    "                                                     \"orange2\",\"orange2\",\"orange2\",\"orange2\",\"orange2\"), xlab=\"Duración\", names=c(10, 25, 50, 75,100,\n",
    "                                                                                                                                 10, 25, 50, 75,100,\n",
    "                                                                                                                                 10, 25, 50, 75,100,\n",
    "                                                                                                                                 10, 25, 50, 75,100,\n",
    "                                                                                                                                 10, 25, 50, 75,100),\n",
    "        ylim=c(0.28,0.45))\n",
    "legend(x = \"topright\", legend = c(\"10k\", \"20k\", \"50k\",\"100k\", \"1000k\"), fill = c(\"pink3\", \"plum3\", \"lightskyblue3\", \"mediumaquamarine\", \"orange2\"), \n",
    "       title = \"Partículas\")\n",
    "dev.off()"
   ]
  },
  {
   "cell_type": "code",
   "execution_count": 365,
   "metadata": {},
   "outputs": [
    {
     "data": {
      "text/plain": [
       "\n",
       "\tPearson's product-moment correlation\n",
       "\n",
       "data:  data$Cumulos and data$porcentaje\n",
       "t = 10.28, df = 1873, p-value < 2.2e-16\n",
       "alternative hypothesis: true correlation is not equal to 0\n",
       "95 percent confidence interval:\n",
       " 0.1877928 0.2735044\n",
       "sample estimates:\n",
       "     cor \n",
       "0.231097 \n"
      ]
     },
     "metadata": {},
     "output_type": "display_data"
    }
   ],
   "source": [
    "cor.test(data$Cumulos,data$porcentaje)"
   ]
  },
  {
   "cell_type": "code",
   "execution_count": 366,
   "metadata": {},
   "outputs": [
    {
     "data": {
      "text/plain": [
       "\n",
       "\tPearson's product-moment correlation\n",
       "\n",
       "data:  data$Particulas and data$porcentaje\n",
       "t = 1.3385, df = 1873, p-value = 0.1809\n",
       "alternative hypothesis: true correlation is not equal to 0\n",
       "95 percent confidence interval:\n",
       " -0.01437476  0.07607634\n",
       "sample estimates:\n",
       "       cor \n",
       "0.03091408 \n"
      ]
     },
     "metadata": {},
     "output_type": "display_data"
    }
   ],
   "source": [
    "cor.test(data$Particulas,data$porcentaje)"
   ]
  },
  {
   "cell_type": "code",
   "execution_count": 367,
   "metadata": {},
   "outputs": [
    {
     "data": {
      "text/plain": [
       "\n",
       "\tPearson's product-moment correlation\n",
       "\n",
       "data:  data$t and data$porcentaje\n",
       "t = -0.099044, df = 1873, p-value = 0.9211\n",
       "alternative hypothesis: true correlation is not equal to 0\n",
       "95 percent confidence interval:\n",
       " -0.04755234  0.04298463\n",
       "sample estimates:\n",
       "         cor \n",
       "-0.002288547 \n"
      ]
     },
     "metadata": {},
     "output_type": "display_data"
    }
   ],
   "source": [
    "cor.test(data$t,data$porcentaje)"
   ]
  },
  {
   "cell_type": "markdown",
   "metadata": {},
   "source": [
    "## Reto 1:"
   ]
  },
  {
   "cell_type": "code",
   "execution_count": 440,
   "metadata": {},
   "outputs": [],
   "source": [
    "modelournas1 <- function(k, n, duracion){\n",
    "    porcentajes <- c()\n",
    "    originales <- rnorm(k)\n",
    "    cumulos <- originales - min(originales) + 1\n",
    "    cumulos <- round(n * cumulos / sum(cumulos))\n",
    "    #assert(min(cumulos) > 0)\n",
    "    diferencia <- n - sum(cumulos)\n",
    "    if (diferencia > 0) {\n",
    "        for (i in 1:diferencia) {\n",
    "            p <- sample(1:k, 1)\n",
    "            cumulos[p] <- cumulos[p] + 1\n",
    "        }\n",
    "    } else if (diferencia < 0) {\n",
    "        for (i in 1:-diferencia) {\n",
    "            p <- sample(1:k, 1)\n",
    "            if (cumulos[p] > 1) {\n",
    "                cumulos[p] <- cumulos[p] - 1\n",
    "            }\n",
    "        }\n",
    "    }\n",
    "    #assert(length(cumulos[cumulos == 0]) == 0) # que no haya vacios\n",
    "    #assert(sum(cumulos) == n)\n",
    "    c <- median(cumulos) # tamanio critico de cumulos\n",
    "    d <- sd(cumulos) / 4 # factor arbitrario para suavizar la curva\n",
    "    rotura <- function(x) {\n",
    "        return (1 / (1 + exp((c - x) / d)))\n",
    "    }\n",
    "    union <- function(x) {\n",
    "        return (exp(-x / c))\n",
    "    }\n",
    "    romperse <- function(tam, cuantos) {\n",
    "        romper <- round(rotura(tam) * cuantos) # independientes\n",
    "        resultado <- rep(tam, cuantos - romper) # los demas\n",
    "        if (romper > 0) {\n",
    "            for (cumulo in 1:romper) { # agregar las rotas\n",
    "                t <- 1\n",
    "                if (tam > 2) { # sample no jala con un solo valor\n",
    "                    t <- sample(1:(tam-1), 1)\n",
    "                }\n",
    "                resultado <- c(resultado, t, tam - t)\n",
    "            }\n",
    "        }\n",
    "        #assert(sum(resultado) == tam * cuantos) # no hubo perdidas\n",
    "        return(resultado)\n",
    "    }\n",
    "    unirse <- function(tam, cuantos) {\n",
    "        unir <- round(union(tam) * cuantos) # independientes\n",
    "        if (unir > 0) {\n",
    "            division <- c(rep(-tam, unir), rep(tam, cuantos - unir))\n",
    "            #assert(sum(abs(division)) == tam * cuantos)\n",
    "            return(division)\n",
    "        } else {\n",
    "            return(rep(tam, cuantos))\n",
    "        }\n",
    "    }\n",
    "    freq <- as.data.frame(table(cumulos))\n",
    "    names(freq) <- c(\"tam\", \"num\")\n",
    "    freq$tam <- as.numeric(levels(freq$tam))[freq$tam]\n",
    "\n",
    "    for (paso in 1:duracion) {\n",
    "        #assert(sum(cumulos) == n)\n",
    "        cumulos <- integer()\n",
    "        for (i in 1:dim(freq)[1]) { # fase de rotura\n",
    "            urna <- freq[i,]\n",
    "            if (urna$tam > 1) { # no tiene caso romper si no se puede\n",
    "                cumulos <- c(cumulos, romperse(urna$tam, urna$num))\n",
    "            } else {\n",
    "                cumulos <- c(cumulos, rep(1, urna$num))\n",
    "            }\n",
    "        }\n",
    "       # assert(sum(cumulos) == n)\n",
    "       # assert(length(cumulos[cumulos == 0]) == 0) # que no haya vacios\n",
    "        freq <- as.data.frame(table(cumulos)) # actualizar urnas\n",
    "        names(freq) <- c(\"tam\", \"num\")\n",
    "        freq$tam <- as.numeric(levels(freq$tam))[freq$tam]\n",
    "       # assert(sum(freq$num * freq$tam) == n)\n",
    "        cumulos <- integer()\n",
    "        for (i in 1:dim(freq)[1]) { # fase de union\n",
    "            urna <- freq[i,]\n",
    "            cumulos <- c(cumulos, unirse(urna$tam, urna$num))\n",
    "        }\n",
    "        #assert(sum(abs(cumulos)) == n)\n",
    "        #assert(length(cumulos[cumulos == 0]) == 0) # que no haya vacios\n",
    "        juntarse <- -cumulos[cumulos < 0]\n",
    "        cumulos <- cumulos[cumulos > 0]\n",
    "        #assert(sum(cumulos) + sum(juntarse) == n)\n",
    "        nt <- length(juntarse)\n",
    "        if (nt > 0) {\n",
    "            if (nt > 1) {\n",
    "                juntarse <- sample(juntarse)\n",
    "                for (i in 1:floor(nt / 2) ) {\n",
    "                    cumulos <- c(cumulos, juntarse[2*i-1] + juntarse[2*i])\n",
    "                }\n",
    "            }\n",
    "            if (nt %% 2 == 1) {\n",
    "                cumulos <- c(cumulos, juntarse[nt])\n",
    "            }\n",
    "        }\n",
    "        #assert(sum(cumulos) == n)\n",
    "        freq <- as.data.frame(table(cumulos))\n",
    "        names(freq) <- c(\"tam\", \"num\")\n",
    "        freq$tam <- as.numeric(levels(freq$tam))[freq$tam]\n",
    "        #assert(sum(freq$num * freq$tam) == n)\n",
    "        cum <- c()\n",
    "\n",
    "        for (i in 1:length(freq$num)){\n",
    "            if(freq$tam[i]>=c){\n",
    "                cum <- c(cum, freq$num[i])\n",
    "            }\n",
    "        }\n",
    "        a<-sum(cum)/sum(freq$num)\n",
    "        porcentajes[paso] <- a \n",
    "    }\n",
    "    \n",
    "    return(which.max(porcentajes))\n",
    "}"
   ]
  },
  {
   "cell_type": "code",
   "execution_count": 445,
   "metadata": {},
   "outputs": [],
   "source": [
    "data_1 <- data.frame()"
   ]
  },
  {
   "cell_type": "code",
   "execution_count": 436,
   "metadata": {},
   "outputs": [],
   "source": [
    "k=10000\n",
    "n=1000000\n",
    "duracion=50"
   ]
  },
  {
   "cell_type": "code",
   "execution_count": 446,
   "metadata": {},
   "outputs": [],
   "source": [
    "suppressMessages(library(doParallel))\n",
    "registerDoParallel(makeCluster(detectCores() - 1))\n",
    "replicas<-30\n",
    "duracion <-50\n",
    "for (k in c(100,1000,10000)){\n",
    "    for (n in c(10*k,100*k,1000*k)){\n",
    "       resultados <- foreach(i = 1:replicas, .combine=c) %dopar% modelournas1(k,n,duracion)\n",
    "        for (j in 1:replicas){\n",
    "            data_1 <- rbind(data_1, c(k,n,duracion, resultados[j]))\n",
    "        }\n",
    "    }\n",
    "}\n",
    "\n",
    "\n",
    "stopImplicitCluster()"
   ]
  },
  {
   "cell_type": "code",
   "execution_count": 506,
   "metadata": {},
   "outputs": [
    {
     "data": {
      "text/html": [
       "<strong>pdf:</strong> 2"
      ],
      "text/latex": [
       "\\textbf{pdf:} 2"
      ],
      "text/markdown": [
       "**pdf:** 2"
      ],
      "text/plain": [
       "pdf \n",
       "  2 "
      ]
     },
     "metadata": {},
     "output_type": "display_data"
    }
   ],
   "source": [
    "png(\"reto1.png\", width = 900, height = 500)\n",
    "boxplot(data_1[1:30,4],data_1[31:60,4],data_1[61:90,4], data_1[91:120,4],\n",
    "        data_1[121:150,4],data_1[151:180,4], data_1[181:210,4], data_1[210:240,4],\n",
    "        data_1[241:270,4], col=c(\"pink3\", \"pink3\", \"pink3\", \"lightskyblue3\",\"lightskyblue3\", \"lightskyblue3\", \"mediumaquamarine\",\n",
    "                                                  \"mediumaquamarine\", \"mediumaquamarine\"), names=c(100,100,100, 1000,1000,1000,10000,10000,10000),\n",
    "       ylab=\"Iteración donde alcanza el máximo\", xlab=\"Cantidad de cúmulos\")\n",
    "dev.off()"
   ]
  },
  {
   "cell_type": "markdown",
   "metadata": {},
   "source": [
    "## Reto 2:"
   ]
  },
  {
   "cell_type": "code",
   "execution_count": 527,
   "metadata": {},
   "outputs": [],
   "source": [
    "names(data_2) <- c(\"Cúmulos\", \"Partículas\", \"Duración\", \"c\", \"mayor que c\", \"menor que c\")"
   ]
  },
  {
   "cell_type": "code",
   "execution_count": 528,
   "metadata": {},
   "outputs": [
    {
     "data": {
      "text/html": [
       "<table>\n",
       "<caption>A data.frame: 270 × 6</caption>\n",
       "<thead>\n",
       "\t<tr><th scope=col>Cúmulos</th><th scope=col>Partículas</th><th scope=col>Duración</th><th scope=col>c</th><th scope=col>mayor que c</th><th scope=col>menor que c</th></tr>\n",
       "\t<tr><th scope=col>&lt;dbl&gt;</th><th scope=col>&lt;dbl&gt;</th><th scope=col>&lt;dbl&gt;</th><th scope=col>&lt;dbl&gt;</th><th scope=col>&lt;dbl&gt;</th><th scope=col>&lt;dbl&gt;</th></tr>\n",
       "</thead>\n",
       "<tbody>\n",
       "\t<tr><td>100</td><td>1000</td><td>50</td><td> 1</td><td>1</td><td>1</td></tr>\n",
       "\t<tr><td>100</td><td>1000</td><td>50</td><td>36</td><td>1</td><td>1</td></tr>\n",
       "\t<tr><td>100</td><td>1000</td><td>50</td><td>41</td><td>1</td><td>1</td></tr>\n",
       "\t<tr><td>100</td><td>1000</td><td>50</td><td>26</td><td>1</td><td>1</td></tr>\n",
       "\t<tr><td>100</td><td>1000</td><td>50</td><td> 1</td><td>1</td><td>1</td></tr>\n",
       "\t<tr><td>100</td><td>1000</td><td>50</td><td>34</td><td>1</td><td>1</td></tr>\n",
       "\t<tr><td>100</td><td>1000</td><td>50</td><td>29</td><td>1</td><td>1</td></tr>\n",
       "\t<tr><td>100</td><td>1000</td><td>50</td><td>20</td><td>1</td><td>1</td></tr>\n",
       "\t<tr><td>100</td><td>1000</td><td>50</td><td>46</td><td>1</td><td>1</td></tr>\n",
       "\t<tr><td>100</td><td>1000</td><td>50</td><td>32</td><td>1</td><td>1</td></tr>\n",
       "\t<tr><td>100</td><td>1000</td><td>50</td><td> 9</td><td>1</td><td>1</td></tr>\n",
       "\t<tr><td>100</td><td>1000</td><td>50</td><td>15</td><td>1</td><td>1</td></tr>\n",
       "\t<tr><td>100</td><td>1000</td><td>50</td><td> 9</td><td>1</td><td>1</td></tr>\n",
       "\t<tr><td>100</td><td>1000</td><td>50</td><td>19</td><td>1</td><td>1</td></tr>\n",
       "\t<tr><td>100</td><td>1000</td><td>50</td><td>19</td><td>1</td><td>1</td></tr>\n",
       "\t<tr><td>100</td><td>1000</td><td>50</td><td>37</td><td>1</td><td>1</td></tr>\n",
       "\t<tr><td>100</td><td>1000</td><td>50</td><td>16</td><td>1</td><td>1</td></tr>\n",
       "\t<tr><td>100</td><td>1000</td><td>50</td><td> 6</td><td>1</td><td>1</td></tr>\n",
       "\t<tr><td>100</td><td>1000</td><td>50</td><td> 1</td><td>1</td><td>1</td></tr>\n",
       "\t<tr><td>100</td><td>1000</td><td>50</td><td> 1</td><td>1</td><td>1</td></tr>\n",
       "\t<tr><td>100</td><td>1000</td><td>50</td><td> 5</td><td>1</td><td>1</td></tr>\n",
       "\t<tr><td>100</td><td>1000</td><td>50</td><td> 1</td><td>1</td><td>1</td></tr>\n",
       "\t<tr><td>100</td><td>1000</td><td>50</td><td>43</td><td>1</td><td>1</td></tr>\n",
       "\t<tr><td>100</td><td>1000</td><td>50</td><td>24</td><td>1</td><td>1</td></tr>\n",
       "\t<tr><td>100</td><td>1000</td><td>50</td><td> 9</td><td>1</td><td>1</td></tr>\n",
       "\t<tr><td>100</td><td>1000</td><td>50</td><td>50</td><td>1</td><td>1</td></tr>\n",
       "\t<tr><td>100</td><td>1000</td><td>50</td><td>15</td><td>1</td><td>1</td></tr>\n",
       "\t<tr><td>100</td><td>1000</td><td>50</td><td>25</td><td>1</td><td>1</td></tr>\n",
       "\t<tr><td>100</td><td>1000</td><td>50</td><td>16</td><td>1</td><td>1</td></tr>\n",
       "\t<tr><td>100</td><td>1000</td><td>50</td><td>48</td><td>1</td><td>1</td></tr>\n",
       "\t<tr><td>⋮</td><td>⋮</td><td>⋮</td><td>⋮</td><td>⋮</td><td>⋮</td></tr>\n",
       "\t<tr><td>10000</td><td>1e+07</td><td>50</td><td>13</td><td>42</td><td> 7</td></tr>\n",
       "\t<tr><td>10000</td><td>1e+07</td><td>50</td><td>25</td><td>14</td><td> 6</td></tr>\n",
       "\t<tr><td>10000</td><td>1e+07</td><td>50</td><td>13</td><td>14</td><td>37</td></tr>\n",
       "\t<tr><td>10000</td><td>1e+07</td><td>50</td><td>33</td><td>19</td><td> 6</td></tr>\n",
       "\t<tr><td>10000</td><td>1e+07</td><td>50</td><td>34</td><td>14</td><td>49</td></tr>\n",
       "\t<tr><td>10000</td><td>1e+07</td><td>50</td><td>21</td><td>27</td><td>48</td></tr>\n",
       "\t<tr><td>10000</td><td>1e+07</td><td>50</td><td>47</td><td> 7</td><td>19</td></tr>\n",
       "\t<tr><td>10000</td><td>1e+07</td><td>50</td><td>38</td><td> 6</td><td>10</td></tr>\n",
       "\t<tr><td>10000</td><td>1e+07</td><td>50</td><td>12</td><td>43</td><td>29</td></tr>\n",
       "\t<tr><td>10000</td><td>1e+07</td><td>50</td><td>11</td><td>44</td><td>46</td></tr>\n",
       "\t<tr><td>10000</td><td>1e+07</td><td>50</td><td>12</td><td>12</td><td>30</td></tr>\n",
       "\t<tr><td>10000</td><td>1e+07</td><td>50</td><td>18</td><td>10</td><td>38</td></tr>\n",
       "\t<tr><td>10000</td><td>1e+07</td><td>50</td><td>14</td><td>14</td><td>11</td></tr>\n",
       "\t<tr><td>10000</td><td>1e+07</td><td>50</td><td>34</td><td>33</td><td>28</td></tr>\n",
       "\t<tr><td>10000</td><td>1e+07</td><td>50</td><td> 8</td><td>32</td><td>30</td></tr>\n",
       "\t<tr><td>10000</td><td>1e+07</td><td>50</td><td> 9</td><td>20</td><td>14</td></tr>\n",
       "\t<tr><td>10000</td><td>1e+07</td><td>50</td><td>22</td><td>15</td><td>12</td></tr>\n",
       "\t<tr><td>10000</td><td>1e+07</td><td>50</td><td>48</td><td>46</td><td>29</td></tr>\n",
       "\t<tr><td>10000</td><td>1e+07</td><td>50</td><td>46</td><td>21</td><td>25</td></tr>\n",
       "\t<tr><td>10000</td><td>1e+07</td><td>50</td><td>34</td><td>32</td><td>44</td></tr>\n",
       "\t<tr><td>10000</td><td>1e+07</td><td>50</td><td> 4</td><td>15</td><td>45</td></tr>\n",
       "\t<tr><td>10000</td><td>1e+07</td><td>50</td><td>23</td><td>36</td><td>39</td></tr>\n",
       "\t<tr><td>10000</td><td>1e+07</td><td>50</td><td>14</td><td>41</td><td>42</td></tr>\n",
       "\t<tr><td>10000</td><td>1e+07</td><td>50</td><td>31</td><td>18</td><td>21</td></tr>\n",
       "\t<tr><td>10000</td><td>1e+07</td><td>50</td><td>41</td><td>44</td><td>32</td></tr>\n",
       "\t<tr><td>10000</td><td>1e+07</td><td>50</td><td>36</td><td> 7</td><td>41</td></tr>\n",
       "\t<tr><td>10000</td><td>1e+07</td><td>50</td><td> 7</td><td>42</td><td>37</td></tr>\n",
       "\t<tr><td>10000</td><td>1e+07</td><td>50</td><td>27</td><td>47</td><td>31</td></tr>\n",
       "\t<tr><td>10000</td><td>1e+07</td><td>50</td><td>34</td><td>25</td><td>28</td></tr>\n",
       "\t<tr><td>10000</td><td>1e+07</td><td>50</td><td>16</td><td> 9</td><td>16</td></tr>\n",
       "</tbody>\n",
       "</table>\n"
      ],
      "text/latex": [
       "A data.frame: 270 × 6\n",
       "\\begin{tabular}{llllll}\n",
       " Cúmulos & Partículas & Duración & c & mayor que c & menor que c\\\\\n",
       " <dbl> & <dbl> & <dbl> & <dbl> & <dbl> & <dbl>\\\\\n",
       "\\hline\n",
       "\t 100 & 1000 & 50 &  1 & 1 & 1\\\\\n",
       "\t 100 & 1000 & 50 & 36 & 1 & 1\\\\\n",
       "\t 100 & 1000 & 50 & 41 & 1 & 1\\\\\n",
       "\t 100 & 1000 & 50 & 26 & 1 & 1\\\\\n",
       "\t 100 & 1000 & 50 &  1 & 1 & 1\\\\\n",
       "\t 100 & 1000 & 50 & 34 & 1 & 1\\\\\n",
       "\t 100 & 1000 & 50 & 29 & 1 & 1\\\\\n",
       "\t 100 & 1000 & 50 & 20 & 1 & 1\\\\\n",
       "\t 100 & 1000 & 50 & 46 & 1 & 1\\\\\n",
       "\t 100 & 1000 & 50 & 32 & 1 & 1\\\\\n",
       "\t 100 & 1000 & 50 &  9 & 1 & 1\\\\\n",
       "\t 100 & 1000 & 50 & 15 & 1 & 1\\\\\n",
       "\t 100 & 1000 & 50 &  9 & 1 & 1\\\\\n",
       "\t 100 & 1000 & 50 & 19 & 1 & 1\\\\\n",
       "\t 100 & 1000 & 50 & 19 & 1 & 1\\\\\n",
       "\t 100 & 1000 & 50 & 37 & 1 & 1\\\\\n",
       "\t 100 & 1000 & 50 & 16 & 1 & 1\\\\\n",
       "\t 100 & 1000 & 50 &  6 & 1 & 1\\\\\n",
       "\t 100 & 1000 & 50 &  1 & 1 & 1\\\\\n",
       "\t 100 & 1000 & 50 &  1 & 1 & 1\\\\\n",
       "\t 100 & 1000 & 50 &  5 & 1 & 1\\\\\n",
       "\t 100 & 1000 & 50 &  1 & 1 & 1\\\\\n",
       "\t 100 & 1000 & 50 & 43 & 1 & 1\\\\\n",
       "\t 100 & 1000 & 50 & 24 & 1 & 1\\\\\n",
       "\t 100 & 1000 & 50 &  9 & 1 & 1\\\\\n",
       "\t 100 & 1000 & 50 & 50 & 1 & 1\\\\\n",
       "\t 100 & 1000 & 50 & 15 & 1 & 1\\\\\n",
       "\t 100 & 1000 & 50 & 25 & 1 & 1\\\\\n",
       "\t 100 & 1000 & 50 & 16 & 1 & 1\\\\\n",
       "\t 100 & 1000 & 50 & 48 & 1 & 1\\\\\n",
       "\t ⋮ & ⋮ & ⋮ & ⋮ & ⋮ & ⋮\\\\\n",
       "\t 10000 & 1e+07 & 50 & 13 & 42 &  7\\\\\n",
       "\t 10000 & 1e+07 & 50 & 25 & 14 &  6\\\\\n",
       "\t 10000 & 1e+07 & 50 & 13 & 14 & 37\\\\\n",
       "\t 10000 & 1e+07 & 50 & 33 & 19 &  6\\\\\n",
       "\t 10000 & 1e+07 & 50 & 34 & 14 & 49\\\\\n",
       "\t 10000 & 1e+07 & 50 & 21 & 27 & 48\\\\\n",
       "\t 10000 & 1e+07 & 50 & 47 &  7 & 19\\\\\n",
       "\t 10000 & 1e+07 & 50 & 38 &  6 & 10\\\\\n",
       "\t 10000 & 1e+07 & 50 & 12 & 43 & 29\\\\\n",
       "\t 10000 & 1e+07 & 50 & 11 & 44 & 46\\\\\n",
       "\t 10000 & 1e+07 & 50 & 12 & 12 & 30\\\\\n",
       "\t 10000 & 1e+07 & 50 & 18 & 10 & 38\\\\\n",
       "\t 10000 & 1e+07 & 50 & 14 & 14 & 11\\\\\n",
       "\t 10000 & 1e+07 & 50 & 34 & 33 & 28\\\\\n",
       "\t 10000 & 1e+07 & 50 &  8 & 32 & 30\\\\\n",
       "\t 10000 & 1e+07 & 50 &  9 & 20 & 14\\\\\n",
       "\t 10000 & 1e+07 & 50 & 22 & 15 & 12\\\\\n",
       "\t 10000 & 1e+07 & 50 & 48 & 46 & 29\\\\\n",
       "\t 10000 & 1e+07 & 50 & 46 & 21 & 25\\\\\n",
       "\t 10000 & 1e+07 & 50 & 34 & 32 & 44\\\\\n",
       "\t 10000 & 1e+07 & 50 &  4 & 15 & 45\\\\\n",
       "\t 10000 & 1e+07 & 50 & 23 & 36 & 39\\\\\n",
       "\t 10000 & 1e+07 & 50 & 14 & 41 & 42\\\\\n",
       "\t 10000 & 1e+07 & 50 & 31 & 18 & 21\\\\\n",
       "\t 10000 & 1e+07 & 50 & 41 & 44 & 32\\\\\n",
       "\t 10000 & 1e+07 & 50 & 36 &  7 & 41\\\\\n",
       "\t 10000 & 1e+07 & 50 &  7 & 42 & 37\\\\\n",
       "\t 10000 & 1e+07 & 50 & 27 & 47 & 31\\\\\n",
       "\t 10000 & 1e+07 & 50 & 34 & 25 & 28\\\\\n",
       "\t 10000 & 1e+07 & 50 & 16 &  9 & 16\\\\\n",
       "\\end{tabular}\n"
      ],
      "text/markdown": [
       "\n",
       "A data.frame: 270 × 6\n",
       "\n",
       "| Cúmulos &lt;dbl&gt; | Partículas &lt;dbl&gt; | Duración &lt;dbl&gt; | c &lt;dbl&gt; | mayor que c &lt;dbl&gt; | menor que c &lt;dbl&gt; |\n",
       "|---|---|---|---|---|---|\n",
       "| 100 | 1000 | 50 |  1 | 1 | 1 |\n",
       "| 100 | 1000 | 50 | 36 | 1 | 1 |\n",
       "| 100 | 1000 | 50 | 41 | 1 | 1 |\n",
       "| 100 | 1000 | 50 | 26 | 1 | 1 |\n",
       "| 100 | 1000 | 50 |  1 | 1 | 1 |\n",
       "| 100 | 1000 | 50 | 34 | 1 | 1 |\n",
       "| 100 | 1000 | 50 | 29 | 1 | 1 |\n",
       "| 100 | 1000 | 50 | 20 | 1 | 1 |\n",
       "| 100 | 1000 | 50 | 46 | 1 | 1 |\n",
       "| 100 | 1000 | 50 | 32 | 1 | 1 |\n",
       "| 100 | 1000 | 50 |  9 | 1 | 1 |\n",
       "| 100 | 1000 | 50 | 15 | 1 | 1 |\n",
       "| 100 | 1000 | 50 |  9 | 1 | 1 |\n",
       "| 100 | 1000 | 50 | 19 | 1 | 1 |\n",
       "| 100 | 1000 | 50 | 19 | 1 | 1 |\n",
       "| 100 | 1000 | 50 | 37 | 1 | 1 |\n",
       "| 100 | 1000 | 50 | 16 | 1 | 1 |\n",
       "| 100 | 1000 | 50 |  6 | 1 | 1 |\n",
       "| 100 | 1000 | 50 |  1 | 1 | 1 |\n",
       "| 100 | 1000 | 50 |  1 | 1 | 1 |\n",
       "| 100 | 1000 | 50 |  5 | 1 | 1 |\n",
       "| 100 | 1000 | 50 |  1 | 1 | 1 |\n",
       "| 100 | 1000 | 50 | 43 | 1 | 1 |\n",
       "| 100 | 1000 | 50 | 24 | 1 | 1 |\n",
       "| 100 | 1000 | 50 |  9 | 1 | 1 |\n",
       "| 100 | 1000 | 50 | 50 | 1 | 1 |\n",
       "| 100 | 1000 | 50 | 15 | 1 | 1 |\n",
       "| 100 | 1000 | 50 | 25 | 1 | 1 |\n",
       "| 100 | 1000 | 50 | 16 | 1 | 1 |\n",
       "| 100 | 1000 | 50 | 48 | 1 | 1 |\n",
       "| ⋮ | ⋮ | ⋮ | ⋮ | ⋮ | ⋮ |\n",
       "| 10000 | 1e+07 | 50 | 13 | 42 |  7 |\n",
       "| 10000 | 1e+07 | 50 | 25 | 14 |  6 |\n",
       "| 10000 | 1e+07 | 50 | 13 | 14 | 37 |\n",
       "| 10000 | 1e+07 | 50 | 33 | 19 |  6 |\n",
       "| 10000 | 1e+07 | 50 | 34 | 14 | 49 |\n",
       "| 10000 | 1e+07 | 50 | 21 | 27 | 48 |\n",
       "| 10000 | 1e+07 | 50 | 47 |  7 | 19 |\n",
       "| 10000 | 1e+07 | 50 | 38 |  6 | 10 |\n",
       "| 10000 | 1e+07 | 50 | 12 | 43 | 29 |\n",
       "| 10000 | 1e+07 | 50 | 11 | 44 | 46 |\n",
       "| 10000 | 1e+07 | 50 | 12 | 12 | 30 |\n",
       "| 10000 | 1e+07 | 50 | 18 | 10 | 38 |\n",
       "| 10000 | 1e+07 | 50 | 14 | 14 | 11 |\n",
       "| 10000 | 1e+07 | 50 | 34 | 33 | 28 |\n",
       "| 10000 | 1e+07 | 50 |  8 | 32 | 30 |\n",
       "| 10000 | 1e+07 | 50 |  9 | 20 | 14 |\n",
       "| 10000 | 1e+07 | 50 | 22 | 15 | 12 |\n",
       "| 10000 | 1e+07 | 50 | 48 | 46 | 29 |\n",
       "| 10000 | 1e+07 | 50 | 46 | 21 | 25 |\n",
       "| 10000 | 1e+07 | 50 | 34 | 32 | 44 |\n",
       "| 10000 | 1e+07 | 50 |  4 | 15 | 45 |\n",
       "| 10000 | 1e+07 | 50 | 23 | 36 | 39 |\n",
       "| 10000 | 1e+07 | 50 | 14 | 41 | 42 |\n",
       "| 10000 | 1e+07 | 50 | 31 | 18 | 21 |\n",
       "| 10000 | 1e+07 | 50 | 41 | 44 | 32 |\n",
       "| 10000 | 1e+07 | 50 | 36 |  7 | 41 |\n",
       "| 10000 | 1e+07 | 50 |  7 | 42 | 37 |\n",
       "| 10000 | 1e+07 | 50 | 27 | 47 | 31 |\n",
       "| 10000 | 1e+07 | 50 | 34 | 25 | 28 |\n",
       "| 10000 | 1e+07 | 50 | 16 |  9 | 16 |\n",
       "\n"
      ],
      "text/plain": [
       "    Cúmulos Partículas Duración c  mayor que c menor que c\n",
       "1   100     1000       50        1 1           1          \n",
       "2   100     1000       50       36 1           1          \n",
       "3   100     1000       50       41 1           1          \n",
       "4   100     1000       50       26 1           1          \n",
       "5   100     1000       50        1 1           1          \n",
       "6   100     1000       50       34 1           1          \n",
       "7   100     1000       50       29 1           1          \n",
       "8   100     1000       50       20 1           1          \n",
       "9   100     1000       50       46 1           1          \n",
       "10  100     1000       50       32 1           1          \n",
       "11  100     1000       50        9 1           1          \n",
       "12  100     1000       50       15 1           1          \n",
       "13  100     1000       50        9 1           1          \n",
       "14  100     1000       50       19 1           1          \n",
       "15  100     1000       50       19 1           1          \n",
       "16  100     1000       50       37 1           1          \n",
       "17  100     1000       50       16 1           1          \n",
       "18  100     1000       50        6 1           1          \n",
       "19  100     1000       50        1 1           1          \n",
       "20  100     1000       50        1 1           1          \n",
       "21  100     1000       50        5 1           1          \n",
       "22  100     1000       50        1 1           1          \n",
       "23  100     1000       50       43 1           1          \n",
       "24  100     1000       50       24 1           1          \n",
       "25  100     1000       50        9 1           1          \n",
       "26  100     1000       50       50 1           1          \n",
       "27  100     1000       50       15 1           1          \n",
       "28  100     1000       50       25 1           1          \n",
       "29  100     1000       50       16 1           1          \n",
       "30  100     1000       50       48 1           1          \n",
       "⋮   ⋮       ⋮          ⋮        ⋮  ⋮           ⋮          \n",
       "241 10000   1e+07      50       13 42           7         \n",
       "242 10000   1e+07      50       25 14           6         \n",
       "243 10000   1e+07      50       13 14          37         \n",
       "244 10000   1e+07      50       33 19           6         \n",
       "245 10000   1e+07      50       34 14          49         \n",
       "246 10000   1e+07      50       21 27          48         \n",
       "247 10000   1e+07      50       47  7          19         \n",
       "248 10000   1e+07      50       38  6          10         \n",
       "249 10000   1e+07      50       12 43          29         \n",
       "250 10000   1e+07      50       11 44          46         \n",
       "251 10000   1e+07      50       12 12          30         \n",
       "252 10000   1e+07      50       18 10          38         \n",
       "253 10000   1e+07      50       14 14          11         \n",
       "254 10000   1e+07      50       34 33          28         \n",
       "255 10000   1e+07      50        8 32          30         \n",
       "256 10000   1e+07      50        9 20          14         \n",
       "257 10000   1e+07      50       22 15          12         \n",
       "258 10000   1e+07      50       48 46          29         \n",
       "259 10000   1e+07      50       46 21          25         \n",
       "260 10000   1e+07      50       34 32          44         \n",
       "261 10000   1e+07      50        4 15          45         \n",
       "262 10000   1e+07      50       23 36          39         \n",
       "263 10000   1e+07      50       14 41          42         \n",
       "264 10000   1e+07      50       31 18          21         \n",
       "265 10000   1e+07      50       41 44          32         \n",
       "266 10000   1e+07      50       36  7          41         \n",
       "267 10000   1e+07      50        7 42          37         \n",
       "268 10000   1e+07      50       27 47          31         \n",
       "269 10000   1e+07      50       34 25          28         \n",
       "270 10000   1e+07      50       16  9          16         "
      ]
     },
     "metadata": {},
     "output_type": "display_data"
    }
   ],
   "source": [
    "data_2"
   ]
  }
 ],
 "metadata": {
  "kernelspec": {
   "display_name": "R",
   "language": "R",
   "name": "ir"
  },
  "language_info": {
   "codemirror_mode": "r",
   "file_extension": ".r",
   "mimetype": "text/x-r-source",
   "name": "R",
   "pygments_lexer": "r",
   "version": "4.0.2"
  }
 },
 "nbformat": 4,
 "nbformat_minor": 4
}

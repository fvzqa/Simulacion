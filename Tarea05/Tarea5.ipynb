{
 "cells": [
  {
   "cell_type": "markdown",
   "metadata": {},
   "source": [
    "# Práctica 5: Método Montecarlo"
   ]
  },
  {
   "cell_type": "code",
   "execution_count": 2,
   "metadata": {},
   "outputs": [],
   "source": [
    "f <- function(x) { return(1 / (exp(x) + exp(-x))) }\n",
    "g <- function(x) { return((2 / pi) * f(x)) }\n",
    "library(distr)\n",
    "suppressMessages(library(distr))\n",
    "generador  <- r(AbscontDistribution(d = g)) # creamos un generador"
   ]
  },
  {
   "cell_type": "code",
   "execution_count": 27,
   "metadata": {},
   "outputs": [],
   "source": [
    "decimalesexactos <- function (x){\n",
    "    for (i in 1:6){\n",
    "        if (!(trunc(wolfram*10^i)==trunc(x*10^i))){\n",
    "            return(i-1)\n",
    "            break\n",
    "        } \n",
    "    }\n",
    "    return(6)\n",
    "}"
   ]
  },
  {
   "cell_type": "code",
   "execution_count": 33,
   "metadata": {},
   "outputs": [],
   "source": [
    "desde <- 3\n",
    "hasta <- 7\n",
    "wolfram=0.048834\n",
    "cuantos <- 500\n",
    "parte <- function() {\n",
    "  valores <- generador(pedazo)\n",
    "  return(sum(valores >= desde & valores <= hasta))\n",
    "}\n",
    "suppressMessages(library(doParallel))\n",
    "registerDoParallel(makeCluster(detectCores() - 3))\n",
    "datos=data.frame()\n",
    "for(pedazo in seq(1000,10000,1000)){ \n",
    "  for(i in 1:50){\n",
    "        montecarlo <- foreach(i = 1:cuantos, .combine=c) %dopar% parte()\n",
    "        integral <- (pi / 2) *sum(montecarlo) / (cuantos * pedazo)\n",
    "        datos=rbind(datos,c(pedazo,integral,decimalesexactos(integral)))\n",
    "  }\n",
    "}\n",
    "stopImplicitCluster()\n",
    "\n",
    "names(datos)=c(\"Corridas\",\"Integral\",\"Decimales Exactos\")"
   ]
  },
  {
   "cell_type": "code",
   "execution_count": 468,
   "metadata": {},
   "outputs": [],
   "source": [
    "names(datos)=c(\"Pedazo\",\"Integral\",\"Decimales Exactos\")"
   ]
  },
  {
   "cell_type": "code",
   "execution_count": 477,
   "metadata": {},
   "outputs": [
    {
     "name": "stdout",
     "output_type": "stream",
     "text": [
      "% latex table generated in R 4.0.2 by xtable 1.8-4 package\n",
      "% Tue Oct 20 23:28:30 2020\n",
      "\\begin{table}[ht]\n",
      "\\centering\n",
      "\\begin{tabular}{rrrr}\n",
      "  \\hline\n",
      " & Pedazo & Integral & Decimales Exactos \\\\ \n",
      "  \\hline\n",
      "1 & 1000 & 0.0488361 & 5 \\\\ \n",
      "  105 & 3000 & 0.0488884 & 4 \\\\ \n",
      "  210 & 5000 & 0.0488486 & 4 \\\\ \n",
      "  320 & 7000 & 0.0488275 & 4 \\\\ \n",
      "  400 & 8000 & 0.0487473 & 3 \\\\ \n",
      "  700 & 65000 & 0.0489142 & 3 \\\\ \n",
      "  900 & 85000 & 0.0488143 & 4 \\\\ \n",
      "   \\hline\n",
      "\\end{tabular}\n",
      "\\end{table}\n"
     ]
    }
   ],
   "source": [
    "print(xtable::xtable(datos[c(1,105,210,320,400,700,900),],,digits=c(0,0,7,0)))"
   ]
  },
  {
   "cell_type": "code",
   "execution_count": 421,
   "metadata": {},
   "outputs": [
    {
     "data": {
      "text/html": [
       "<strong>pdf:</strong> 2"
      ],
      "text/latex": [
       "\\textbf{pdf:} 2"
      ],
      "text/markdown": [
       "**pdf:** 2"
      ],
      "text/plain": [
       "pdf \n",
       "  2 "
      ]
     },
     "metadata": {},
     "output_type": "display_data"
    }
   ],
   "source": [
    "png(file=\"boxplot.png\",\n",
    "    width=5500, height=2000, res = 200)\n",
    "par(mar = c(5,5,5,5))\n",
    "boxplot(datos[1151:1200,2],datos[1201:1250,2],datos[1101:1150,2],datos[1051:1100,2],datos[1001:1050,2],datos[1:50,2], datos[51:100,2], datos[101:150,2], datos[151:200,2], datos[201:250,2], datos[251:300,2], datos[301:350,2],\n",
    "        datos[351:400,2], datos[401:450,2], datos[451:500,2],datos[501:550,2], datos[551:600,2], datos[601:650,2], datos[651:700,2], datos[701:750,2],\n",
    "        datos[751:800,2], datos[801:850,2], datos[851:900,2], datos[901:950,2], col=palette(\"Pastel 2\"), las = 0, \n",
    "        names=c(50,75,100,250,500,seq(1000,10000,1000), seq(50000,90000,5000)), xlab=\"Pedazos\", ylab=\"Valor de la integral\", cex.axis=1.6,\n",
    "        cex.lab=2)\n",
    "abline(h=wolfram, col = \"Red\", lty = 5, lwd = 2)\n",
    "dev.off()"
   ]
  },
  {
   "cell_type": "code",
   "execution_count": 473,
   "metadata": {},
   "outputs": [
    {
     "data": {
      "text/plain": [
       "\n",
       "\tPearson's product-moment correlation\n",
       "\n",
       "data:  datos$Pedazo and datos$`Decimales Exactos`\n",
       "t = 23.753, df = 1250, p-value < 0.00000000000000022\n",
       "alternative hypothesis: true correlation is not equal to 0\n",
       "95 percent confidence interval:\n",
       " 0.5182761 0.5946934\n",
       "sample estimates:\n",
       "      cor \n",
       "0.5576652 \n"
      ]
     },
     "metadata": {},
     "output_type": "display_data"
    }
   ],
   "source": [
    "cor.test(datos$Pedazo,datos$`Decimales Exactos`)"
   ]
  },
  {
   "cell_type": "code",
   "execution_count": 424,
   "metadata": {},
   "outputs": [
    {
     "data": {
      "text/html": [
       "<strong>pdf:</strong> 2"
      ],
      "text/latex": [
       "\\textbf{pdf:} 2"
      ],
      "text/markdown": [
       "**pdf:** 2"
      ],
      "text/plain": [
       "pdf \n",
       "  2 "
      ]
     },
     "metadata": {},
     "output_type": "display_data"
    }
   ],
   "source": [
    "png(file=\"boxplot2.png\",\n",
    "    width=5700, height=2000, res = 200)\n",
    "par(mar = c(5,5,5,5))\n",
    "boxplot(datos[1151:1200,2],datos[1201:1250,2],datos[1101:1150,3],datos[1051:1100,3],datos[1001:1050,3],datos[1:50,3], datos[51:100,3], datos[101:150,3], datos[151:200,3], datos[201:250,3], datos[251:300,3], datos[301:350,3],\n",
    "        datos[351:400,3], datos[401:450,3], datos[451:500,3], datos[501:550,3], datos[551:600,3], datos[601:650,3], datos[651:700,3], datos[701:750,3],\n",
    "        datos[751:800,3], datos[801:850,3], datos[851:900,3], datos[901:950,3], datos[951:1000,3], col=palette(\"Pastel 2\"), las = 0, \n",
    "        names=c(50,75,100,250,500, seq(1000,10000,1000), seq(50000,95000,5000)), xlab=\"Pedazos\", ylab=\"Decimales exactos\", cex.axis=1.6,\n",
    "        cex.lab=2)\n",
    "#abline(h=wolfram, col = \"Red\", lty = 5, lwd = 2)\n",
    "dev.off()"
   ]
  },
  {
   "cell_type": "markdown",
   "metadata": {},
   "source": [
    "## Reto 1"
   ]
  },
  {
   "cell_type": "code",
   "execution_count": 243,
   "metadata": {},
   "outputs": [],
   "source": [
    "decimalesexactos_pi <- function (x){\n",
    "    for (i in 0:6){\n",
    "        if (!(trunc(pi*10^i)==trunc(x*10^i))){\n",
    "            return(i)\n",
    "            break\n",
    "        } \n",
    "    }\n",
    "    return(6)\n",
    "}"
   ]
  },
  {
   "cell_type": "code",
   "execution_count": 396,
   "metadata": {},
   "outputs": [],
   "source": [
    "in.circle = function (){\n",
    "    xs <- runif(runs, min = -0.5, max = 0.5)\n",
    "    ys <- runif(runs, min = -0.5, max = 0.5) \n",
    "    in.circle <- xs^2 + ys^2 <= 0.5^2\n",
    "    w <- (sum(in.circle)/runs)*4\n",
    "    return(w)\n",
    "}"
   ]
  },
  {
   "cell_type": "code",
   "execution_count": 397,
   "metadata": {},
   "outputs": [],
   "source": [
    "pi = 3.141592\n",
    "rep = 50\n",
    "\n",
    "suppressMessages(library(doParallel))\n",
    "registerDoParallel(makeCluster(detectCores() - 2))\n",
    "\n",
    "datospi1=data.frame()\n",
    "for(i in 2:8){\n",
    "    runs <- 10^i\n",
    "    mc.pi <- foreach(j = 1:rep, .combine=c) %dopar% in.circle()\n",
    "    for (j in 1:rep){\n",
    "        datospi <- rbind(datospi, c(i,mc.pi[j], decimalesexactos_pi(mc.pi[j])))\n",
    "    }\n",
    "}\n",
    "stopImplicitCluster()\n"
   ]
  },
  {
   "cell_type": "code",
   "execution_count": 429,
   "metadata": {},
   "outputs": [
    {
     "data": {
      "text/html": [
       "<strong>pdf:</strong> 2"
      ],
      "text/latex": [
       "\\textbf{pdf:} 2"
      ],
      "text/markdown": [
       "**pdf:** 2"
      ],
      "text/plain": [
       "pdf \n",
       "  2 "
      ]
     },
     "metadata": {},
     "output_type": "display_data"
    }
   ],
   "source": [
    "png(file=\"reto.png\",\n",
    "    width=5700, height=2000, res = 200)\n",
    "par(mar = c(5,5,5,5))\n",
    "boxplot(datospi[1:50,2], datospi[51:100,2], datospi[101:150,2], datospi[151:200,2], datospi[201:250,2], datospi[251:300,2], datospi[301:350,2],\n",
    "        xlab=\"Pedazos\", ylab=\"aproximación de pi\", cex.axis=1.8, names=c(100,1000,1000,10000,1000000,10000000,100000000),\n",
    "        cex.lab=2, col=palette(\"Pastel 2\"))\n",
    "abline(h=pi, col = \"Red\", lty = 5, lwd = 2)\n",
    "dev.off()"
   ]
  },
  {
   "cell_type": "code",
   "execution_count": 427,
   "metadata": {},
   "outputs": [
    {
     "data": {
      "text/html": [
       "<strong>pdf:</strong> 2"
      ],
      "text/latex": [
       "\\textbf{pdf:} 2"
      ],
      "text/markdown": [
       "**pdf:** 2"
      ],
      "text/plain": [
       "pdf \n",
       "  2 "
      ]
     },
     "metadata": {},
     "output_type": "display_data"
    }
   ],
   "source": [
    "png(file=\"reto1.png\",\n",
    "    width=5700, height=2000, res = 200)\n",
    "par(mar = c(5,5,5,5))\n",
    "boxplot(datospi[1:50,3], datospi[51:100,3], datospi[101:150,3], datospi[151:200,3], datospi[201:250,3], datospi[251:300,3], datospi[301:350,3],\n",
    "        xlab=\"Muestra\", ylab=\"aproximación de pi\", cex.axis=1.8, names=c(100,1000,1000,10000,1000000,10000000,100000000),\n",
    "        cex.lab=2, col=palette(\"Pastel 2\"))\n",
    "#abline(h=pi, col = \"Red\", lty = 5, lwd = 2)\n",
    "dev.off()"
   ]
  },
  {
   "cell_type": "code",
   "execution_count": 200,
   "metadata": {},
   "outputs": [
    {
     "data": {
      "image/png": "[encoded data removed]",
      "text/plain": [
       "Plot with title “MC Approximation of Pi= 3.1415916”"
      ]
     },
     "metadata": {
      "image/png": {
       "height": 420,
       "width": 420
      }
     },
     "output_type": "display_data"
    }
   ],
   "source": [
    "plot(xs,ys,pch='.', col=ifelse(in.circle, \"rosybrown\", \"grey\"),\n",
    "    xlab='', ylab='', asp=1,\n",
    "    main=paste(\"MC Approximation of Pi=\", mc.pi))"
   ]
  }
 ],
 "metadata": {
  "kernelspec": {
   "display_name": "R",
   "language": "R",
   "name": "ir"
  },
  "language_info": {
   "codemirror_mode": "r",
   "file_extension": ".r",
   "mimetype": "text/x-r-source",
   "name": "R",
   "pygments_lexer": "r",
   "version": "4.0.2"
  }
 },
 "nbformat": 4,
 "nbformat_minor": 4
}

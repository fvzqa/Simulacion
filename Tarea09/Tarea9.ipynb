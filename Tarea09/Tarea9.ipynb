{
 "cells": [
  {
   "cell_type": "markdown",
   "metadata": {},
   "source": [
    "# Práctica 9: interacciones entre partículas "
   ]
  },
  {
   "cell_type": "markdown",
   "metadata": {},
   "source": [
    "En la novena práctica trabajamos con un modelo simplificado para los fenómenos de atracción y repulsión de física (o química, de hecho). Supongamos que contemos con $n$ partículas que habitan un cuadro unitario bidimensional y que cada partícula tiene una carga eléctrica, distribuida independientemente e normalmente al azar entre $[-1,1]$. Cargas de un mismo signo producirán una repulsión mientras cargas opuestas resultan en una atracción — la magnitud de la fuerza estará proporcional a la diferencia de magnitud de las cargas (mayores diferencias resultando en fuerzas mayores), y además la fuerza será inversamente proporcional a la distancia euclideana entre las partículas (éstas son reglas inventadas de interacción para efectos de demostración). Vamos a comenzar creando y posicionando las partículas, usando la distribución normal (posteriormente normalizada al cuadro unitario) para las coordenadas $x$ y $y$."
   ]
  },
  {
   "cell_type": "markdown",
   "metadata": {},
   "source": [
    "$n$ es la cantidad de partículas generadas. "
   ]
  },
  {
   "cell_type": "markdown",
   "metadata": {},
   "source": [
    "En **p** se guardan las coordenadas de las $n$ partículas."
   ]
  },
  {
   "cell_type": "markdown",
   "metadata": {},
   "source": [
    "La columna **c** en el data.frame **p** son las *cargas* que posee cada una de las partículas."
   ]
  },
  {
   "cell_type": "code",
   "execution_count": 49,
   "metadata": {},
   "outputs": [],
   "source": [
    "library(rasterVis)\n",
    "library(latticeExtra)\n",
    "library(lattice)\n",
    "library(sp)\n",
    "library(viridisLite)\n",
    "library(reshape2) "
   ]
  },
  {
   "cell_type": "markdown",
   "metadata": {},
   "source": [
    "Código para crear animaciones."
   ]
  },
  {
   "cell_type": "code",
   "execution_count": 394,
   "metadata": {},
   "outputs": [],
   "source": [
    "n <- 100\n",
    "masas=c(0.2,0.4,0.6,0.8,1.0)\n",
    "a=c(0,0,0,0,0)\n",
    "b=c(0,0,0,0,0)\n",
    "p <- data.frame(x = rnorm(n), y=rnorm(n), c=rnorm(n), m=sample(masas,size = n, replace = TRUE))\n",
    "xmax <- max(p$x)\n",
    "xmin <- min(p$x)\n",
    "p$x <- (p$x - xmin) / (xmax - xmin) # ahora son de 0 a 1\n",
    "ymax <- max(p$y)\n",
    "ymin <- min(p$y)\n",
    "p$y <- (p$y - ymin) / (ymax - ymin) # las y tambien\n",
    "cmax <- max(p$c)\n",
    "cmin <- min(p$c)\n",
    "p$c <- 2 * (p$c - cmin) / (cmax - cmin) - 1 # cargas son entre -1 y 1\n",
    "p$g <- round(5 * p$c) # coloreamos segun la carga a 11 niveles de -5 a 5\n",
    "paso <- floor(256 / 10)\n",
    "niveles <- seq(0, 255, paso)\n",
    "colores <- rgb(niveles, rep(0, 11), rev(niveles), max=255)\n",
    "eps <- 0.001\n",
    "fuerza <- function(i) {\n",
    "    xi <- p[i,]$x\n",
    "    yi <- p[i,]$y\n",
    "    ci <- p[i,]$c\n",
    "    fx <- 0\n",
    "    fy <- 0\n",
    "    for (j in 1:n) {\n",
    "        cj <- p[j,]$c\n",
    "        dir <- (-1)^(1 + 1 * (ci * cj < 0))\n",
    "        dx <- xi - p[j,]$x\n",
    "        dy <- yi - p[j,]$y\n",
    "        factor <- dir * abs(ci - cj) / (sqrt(dx^2 + dy^2) + eps)\n",
    "        fx <- fx - dx * factor\n",
    "        fy <- fy - dy * factor\n",
    "    }\n",
    "    return(c(fx, fy))\n",
    "}\n",
    "suppressMessages(library(doParallel))\n",
    "registerDoParallel(makeCluster(detectCores() - 1))\n",
    "system(\"rm -f p9_t*.png\") # borramos anteriores (requiere bash)\n",
    "tmax <- 100\n",
    "digitos <- floor(log(tmax, 10)) + 1\n",
    "tl <- \"0\"\n",
    "while (nchar(tl) < digitos) {\n",
    "    tl <- paste(\"0\", tl, sep=\"\")\n",
    "}\n",
    "\n",
    "    puntos2 <- SpatialPoints(matrix(c(p[p$m==0.2,]$x, p[p$m==0.2,]$y), length(p[p$m==0.2,]$x), byrow=FALSE))\n",
    "    puntos4 <- SpatialPoints(matrix(c(p[p$m==0.4,]$x, p[p$m==0.4,]$y), length(p[p$m==0.4,]$x), byrow=FALSE))\n",
    "    puntos6 <- SpatialPoints(matrix(c(p[p$m==0.6,]$x, p[p$m==0.6,]$y), length(p[p$m==0.6,]$x), byrow=FALSE))\n",
    "    puntos8 <- SpatialPoints(matrix(c(p[p$m==0.8,]$x, p[p$m==0.8,]$y), length(p[p$m==0.8,]$x), byrow=FALSE))\n",
    "    puntos10 <- SpatialPoints(matrix(c(p[p$m==1.0,]$x, p[p$m==1.0,]$y), length(p[p$m==1.0,]$x), byrow=FALSE))\n",
    "png(paste(\"p9_t\", tl, \".png\", sep=\"\"))\n",
    "    xyplot(a~b, type=\"n\", xlab=\"X\", ylab=\"Y\", xlim=c(-0.1, 1.1), ylim=c(-0.1, 1.1),\n",
    "       key = list(space=\"right\",rows=2, \n",
    "       text=list(lab=c(\"Carga\",\"-5\",\"-4\",\"-3\",\"-2\",\"-1\",\"0\",\"1\",\"2\",\"3\",\"4\",\"5\",\"\",\"Masa\",\"0.2\",\"0.4\",\"0.6\",\"0.8\",\"1.0\")),\n",
    "       points=list(pch=c(16,16,16,16,16), col=c(\"white\",colores, \"white\",\"white\",\"black\",\"black\",\"black\",\"black\",\"black\"), cex=c(2,2,2,2,2,2,2,2,2,2,2,2,2,2,1.8,2.2,2.6,3,3.4))))+\n",
    "    layer(sp.points(puntos10, pch=16, cex=3.4, col=colores[p$g+6]))+\n",
    "    layer(sp.points(puntos8, pch=16, cex=3, col=colores[p$g+6]))+\n",
    "    layer(sp.points(puntos6, pch=16, cex=2.6, col=colores[p$g+6]))+\n",
    "    layer(sp.points(puntos4, pch=16, cex=2.2, col=colores[p$g+6]))+\n",
    "    layer(sp.points(puntos2, pch=16, cex=1.8, col=colores[p$g+6]))\n",
    "graphics.off()\n",
    "\n",
    "for (iter in 1:tmax) {\n",
    "    f <- foreach(i = 1:n, .combine=c) %dopar% fuerza(i)\n",
    "    delta <- 0.02 / max(abs(f)) # que nadie desplace una paso muy largo\n",
    "    p$x <- foreach(i = 1:n, .combine=c) %dopar% max(min(p[i,]$x + delta * f[c(TRUE, FALSE)][i]/p[i,]$m, 1), 0)\n",
    "    p$y <- foreach(i = 1:n, .combine=c) %dopar% max(min(p[i,]$y + delta * f[c(FALSE, TRUE)][i]/p[i,]$m, 1), 0)\n",
    "    tl <- paste(iter, \"\", sep=\"\")\n",
    "    while (nchar(tl) < digitos) {\n",
    "        tl <- paste(\"0\", tl, sep=\"\")\n",
    "    }\n",
    "    \n",
    "    \n",
    "    puntos2 <- SpatialPoints(matrix(c(p[p$m==0.2,]$x, p[p$m==0.2,]$y), length(p[p$m==0.2,]$x), byrow=FALSE))\n",
    "    puntos4 <- SpatialPoints(matrix(c(p[p$m==0.4,]$x, p[p$m==0.4,]$y), length(p[p$m==0.4,]$x), byrow=FALSE))\n",
    "    puntos6 <- SpatialPoints(matrix(c(p[p$m==0.6,]$x, p[p$m==0.6,]$y), length(p[p$m==0.6,]$x), byrow=FALSE))\n",
    "    puntos8 <- SpatialPoints(matrix(c(p[p$m==0.8,]$x, p[p$m==0.8,]$y), length(p[p$m==0.8,]$x), byrow=FALSE))\n",
    "    puntos10 <- SpatialPoints(matrix(c(p[p$m==1.0,]$x, p[p$m==1.0,]$y), length(p[p$m==1.0,]$x), byrow=FALSE))\n",
    "   \n",
    "\n",
    "    imagen <- xyplot(a~b, type=\"n\", xlab=\"X\", ylab=\"Y\", xlim=c(-0.1, 1.1), ylim=c(-0.1, 1.1),\n",
    "       key = list(space=\"right\",rows=2, \n",
    "       text=list(lab=c(\"Carga\",\"-5\",\"-4\",\"-3\",\"-2\",\"-1\",\"0\",\"1\",\"2\",\"3\",\"4\",\"5\",\"\",\"Masa\",\"0.2\",\"0.4\",\"0.6\",\"0.8\",\"1.0\")),\n",
    "       points=list(pch=c(16,16,16,16,16), col=c(\"white\",colores, \"white\",\"white\",\"black\",\"black\",\"black\",\"black\",\"black\"), \n",
    "                   cex=c(2,2,2,2,2,2,2,2,2,2,2,2,2,2,1.8,2.2,2.6,3,3.4))))+\n",
    "                layer(sp.points(puntos10, pch=16, cex=3.4, col=colores[p$g+6]))+\n",
    "                layer(sp.points(puntos8, pch=16, cex=3, col=colores[p$g+6]))+\n",
    "                layer(sp.points(puntos6, pch=16, cex=2.6, col=colores[p$g+6]))+\n",
    "                layer(sp.points(puntos4, pch=16, cex=2.2, col=colores[p$g+6]))+\n",
    "                layer(sp.points(puntos2, pch=16, cex=1.8, col=colores[p$g+6]))\n",
    "    \n",
    "    png(paste(\"p9_t\", tl, \".png\", sep=\"\"))    \n",
    "    print(imagen)\n",
    "    graphics.off()\n",
    "}\n",
    "stopImplicitCluster()\n",
    "system(\"convert -delay 25 -size 300x300 p9_t*.png -loop 0 p9.gif\") # creamos animacion con ImageMagick"
   ]
  },
  {
   "cell_type": "markdown",
   "metadata": {},
   "source": [
    "Código modificado"
   ]
  },
  {
   "cell_type": "code",
   "execution_count": 418,
   "metadata": {},
   "outputs": [],
   "source": [
    "n <- 500\n",
    "masas=c(0.2,0.4,0.6,0.8,1.0)\n",
    "a=c(0,0,0,0,0)\n",
    "b=c(0,0,0,0,0)\n",
    "p <- data.frame(x = rnorm(n), y=rnorm(n), c=rnorm(n), m=sample(masas,size = n, replace = TRUE))\n",
    "d <- p\n",
    "xmax <- max(p$x)\n",
    "xmin <- min(p$x)\n",
    "p$x <- (p$x - xmin) / (xmax - xmin) # ahora son de 0 a 1\n",
    "ymax <- max(p$y)\n",
    "ymin <- min(p$y)\n",
    "p$y <- (p$y - ymin) / (ymax - ymin) # las y tambien\n",
    "cmax <- max(p$c)\n",
    "cmin <- min(p$c)\n",
    "p$c <- 2 * (p$c - cmin) / (cmax - cmin) - 1 # cargas son entre -1 y 1\n",
    "p$g <- round(5 * p$c) # coloreamos segun la carga a 11 niveles de -5 a 5\n",
    "paso <- floor(256 / 10)\n",
    "niveles <- seq(0, 255, paso)\n",
    "colores <- rgb(niveles, rep(0, 11), rev(niveles), max=255)\n",
    "eps <- 0.001\n",
    "fuerza <- function(i) {\n",
    "    xi <- p[i,]$x\n",
    "    yi <- p[i,]$y\n",
    "    ci <- p[i,]$c\n",
    "    fx <- 0\n",
    "    fy <- 0\n",
    "    for (j in 1:n) {\n",
    "        cj <- p[j,]$c\n",
    "        dir <- (-1)^(1 + 1 * (ci * cj < 0))\n",
    "        dx <- xi - p[j,]$x\n",
    "        dy <- yi - p[j,]$y\n",
    "        factor <- dir * abs(ci - cj) / (sqrt(dx^2 + dy^2) + eps)\n",
    "        fx <- fx - dx * factor\n",
    "        fy <- fy - dy * factor\n",
    "    }\n",
    "    return(c(fx, fy))\n",
    "}\n",
    "\n",
    "suppressMessages(library(doParallel))\n",
    "registerDoParallel(makeCluster(detectCores() - 1))\n",
    "data <- data.frame()\n",
    "tmax <- 100\n",
    "for (iter in 1:tmax) {\n",
    "    a <- p$x\n",
    "    b <- p$y\n",
    "    f <- foreach(i = 1:n, .combine=c) %dopar% fuerza(i)\n",
    "    delta <- 0.02 / max(abs(f)) # que nadie desplace una paso muy largo\n",
    "    p$x <- foreach(i = 1:n, .combine=c) %dopar% max(min(p[i,]$x + delta * f[c(TRUE, FALSE)][i]/p[i,]$m, 1), 0)\n",
    "    p$y <- foreach(i = 1:n, .combine=c) %dopar% max(min(p[i,]$y + delta * f[c(FALSE, TRUE)][i]/p[i,]$m, 1), 0)\n",
    "    dist <- sqrt((a-p$x)^2+(b-p$y)^2)\n",
    "    data <- rbind(data, dist)\n",
    "}\n",
    "names(data) <- c(1:n)\n",
    "\n",
    "stopImplicitCluster()\n"
   ]
  },
  {
   "cell_type": "code",
   "execution_count": 419,
   "metadata": {},
   "outputs": [],
   "source": [
    "v <- c()\n",
    "for (i in 1:n){\n",
    "    v[i] <- sum(data[,i])/(n-1)\n",
    "}"
   ]
  },
  {
   "cell_type": "code",
   "execution_count": 420,
   "metadata": {},
   "outputs": [],
   "source": [
    "d$v <- v"
   ]
  },
  {
   "cell_type": "code",
   "execution_count": 421,
   "metadata": {},
   "outputs": [
    {
     "name": "stdout",
     "output_type": "stream",
     "text": [
      "           x          y          c   m           v\n",
      "1 -1.0433343  2.8686023 -0.7423646 1.0 0.001890412\n",
      "2  0.7119557  2.0243932  1.4867207 0.6 0.004618382\n",
      "3 -0.3596206 -1.9417118 -0.8000972 0.2 0.009067467\n",
      "4 -2.5739024 -0.8338202 -0.8613619 1.0 0.002091908\n",
      "5 -0.5364081 -0.8442296  0.5731916 0.2 0.008063160\n",
      "6  0.9836179 -0.9878642  0.3748360 1.0 0.001528506\n"
     ]
    },
    {
     "data": {
      "text/html": [
       "<table>\n",
       "<caption>A xtable: 6 × 5</caption>\n",
       "<thead>\n",
       "\t<tr><th></th><th scope=col>x</th><th scope=col>y</th><th scope=col>c</th><th scope=col>m</th><th scope=col>v</th></tr>\n",
       "\t<tr><th></th><th scope=col>&lt;dbl&gt;</th><th scope=col>&lt;dbl&gt;</th><th scope=col>&lt;dbl&gt;</th><th scope=col>&lt;dbl&gt;</th><th scope=col>&lt;dbl&gt;</th></tr>\n",
       "</thead>\n",
       "<tbody>\n",
       "\t<tr><th scope=row>1</th><td>-1.0433343</td><td> 2.8686023</td><td>-0.7423646</td><td>1.0</td><td>0.001890412</td></tr>\n",
       "\t<tr><th scope=row>2</th><td> 0.7119557</td><td> 2.0243932</td><td> 1.4867207</td><td>0.6</td><td>0.004618382</td></tr>\n",
       "\t<tr><th scope=row>3</th><td>-0.3596206</td><td>-1.9417118</td><td>-0.8000972</td><td>0.2</td><td>0.009067467</td></tr>\n",
       "\t<tr><th scope=row>4</th><td>-2.5739024</td><td>-0.8338202</td><td>-0.8613619</td><td>1.0</td><td>0.002091908</td></tr>\n",
       "\t<tr><th scope=row>5</th><td>-0.5364081</td><td>-0.8442296</td><td> 0.5731916</td><td>0.2</td><td>0.008063160</td></tr>\n",
       "\t<tr><th scope=row>6</th><td> 0.9836179</td><td>-0.9878642</td><td> 0.3748360</td><td>1.0</td><td>0.001528506</td></tr>\n",
       "</tbody>\n",
       "</table>\n"
      ],
      "text/latex": [
       "A xtable: 6 × 5\n",
       "\\begin{tabular}{r|lllll}\n",
       "  & x & y & c & m & v\\\\\n",
       "  & <dbl> & <dbl> & <dbl> & <dbl> & <dbl>\\\\\n",
       "\\hline\n",
       "\t1 & -1.0433343 &  2.8686023 & -0.7423646 & 1.0 & 0.001890412\\\\\n",
       "\t2 &  0.7119557 &  2.0243932 &  1.4867207 & 0.6 & 0.004618382\\\\\n",
       "\t3 & -0.3596206 & -1.9417118 & -0.8000972 & 0.2 & 0.009067467\\\\\n",
       "\t4 & -2.5739024 & -0.8338202 & -0.8613619 & 1.0 & 0.002091908\\\\\n",
       "\t5 & -0.5364081 & -0.8442296 &  0.5731916 & 0.2 & 0.008063160\\\\\n",
       "\t6 &  0.9836179 & -0.9878642 &  0.3748360 & 1.0 & 0.001528506\\\\\n",
       "\\end{tabular}\n"
      ],
      "text/markdown": [
       "\n",
       "A xtable: 6 × 5\n",
       "\n",
       "| <!--/--> | x &lt;dbl&gt; | y &lt;dbl&gt; | c &lt;dbl&gt; | m &lt;dbl&gt; | v &lt;dbl&gt; |\n",
       "|---|---|---|---|---|---|\n",
       "| 1 | -1.0433343 |  2.8686023 | -0.7423646 | 1.0 | 0.001890412 |\n",
       "| 2 |  0.7119557 |  2.0243932 |  1.4867207 | 0.6 | 0.004618382 |\n",
       "| 3 | -0.3596206 | -1.9417118 | -0.8000972 | 0.2 | 0.009067467 |\n",
       "| 4 | -2.5739024 | -0.8338202 | -0.8613619 | 1.0 | 0.002091908 |\n",
       "| 5 | -0.5364081 | -0.8442296 |  0.5731916 | 0.2 | 0.008063160 |\n",
       "| 6 |  0.9836179 | -0.9878642 |  0.3748360 | 1.0 | 0.001528506 |\n",
       "\n"
      ],
      "text/plain": [
       "  x          y          c          m   v          \n",
       "1 -1.0433343  2.8686023 -0.7423646 1.0 0.001890412\n",
       "2  0.7119557  2.0243932  1.4867207 0.6 0.004618382\n",
       "3 -0.3596206 -1.9417118 -0.8000972 0.2 0.009067467\n",
       "4 -2.5739024 -0.8338202 -0.8613619 1.0 0.002091908\n",
       "5 -0.5364081 -0.8442296  0.5731916 0.2 0.008063160\n",
       "6  0.9836179 -0.9878642  0.3748360 1.0 0.001528506"
      ]
     },
     "metadata": {},
     "output_type": "display_data"
    }
   ],
   "source": [
    "xtable::xtable(print(head(d)))"
   ]
  },
  {
   "cell_type": "code",
   "execution_count": 423,
   "metadata": {},
   "outputs": [
    {
     "data": {
      "text/plain": [
       "\n",
       "\tPearson's product-moment correlation\n",
       "\n",
       "data:  d[, 5] and d[, 4]\n",
       "t = -21.406, df = 498, p-value < 2.2e-16\n",
       "alternative hypothesis: true correlation is not equal to 0\n",
       "95 percent confidence interval:\n",
       " -0.7353029 -0.6436279\n",
       "sample estimates:\n",
       "       cor \n",
       "-0.6922479 \n"
      ]
     },
     "metadata": {},
     "output_type": "display_data"
    }
   ],
   "source": [
    "cor.test(d[,5], d[,4])"
   ]
  },
  {
   "cell_type": "code",
   "execution_count": 424,
   "metadata": {},
   "outputs": [
    {
     "data": {
      "text/plain": [
       "\n",
       "\tPearson's product-moment correlation\n",
       "\n",
       "data:  d[, 5] and d[, 3]\n",
       "t = 1.3118, df = 498, p-value = 0.1902\n",
       "alternative hypothesis: true correlation is not equal to 0\n",
       "95 percent confidence interval:\n",
       " -0.02916002  0.14562187\n",
       "sample estimates:\n",
       "       cor \n",
       "0.05868061 \n"
      ]
     },
     "metadata": {},
     "output_type": "display_data"
    }
   ],
   "source": [
    "cor.test(d[,5], d[,3])"
   ]
  },
  {
   "cell_type": "code",
   "execution_count": 425,
   "metadata": {},
   "outputs": [
    {
     "data": {
      "text/plain": [
       "\n",
       "\tPearson's product-moment correlation\n",
       "\n",
       "data:  d[, 5] and d[, 2]\n",
       "t = -0.37971, df = 498, p-value = 0.7043\n",
       "alternative hypothesis: true correlation is not equal to 0\n",
       "95 percent confidence interval:\n",
       " -0.10454723  0.07078358\n",
       "sample estimates:\n",
       "        cor \n",
       "-0.01701261 \n"
      ]
     },
     "metadata": {},
     "output_type": "display_data"
    }
   ],
   "source": [
    "cor.test(d[,5], d[,2])"
   ]
  },
  {
   "cell_type": "code",
   "execution_count": 426,
   "metadata": {},
   "outputs": [
    {
     "data": {
      "text/plain": [
       "\n",
       "\tPearson's product-moment correlation\n",
       "\n",
       "data:  d[, 5] and d[, 1]\n",
       "t = 0.99371, df = 498, p-value = 0.3208\n",
       "alternative hypothesis: true correlation is not equal to 0\n",
       "95 percent confidence interval:\n",
       " -0.04337455  0.13166222\n",
       "sample estimates:\n",
       "       cor \n",
       "0.04448524 \n"
      ]
     },
     "metadata": {},
     "output_type": "display_data"
    }
   ],
   "source": [
    "cor.test(d[,5], d[,1])"
   ]
  },
  {
   "cell_type": "code",
   "execution_count": 428,
   "metadata": {},
   "outputs": [
    {
     "data": {
      "text/html": [
       "<strong>pdf:</strong> 2"
      ],
      "text/latex": [
       "\\textbf{pdf:} 2"
      ],
      "text/markdown": [
       "**pdf:** 2"
      ],
      "text/plain": [
       "pdf \n",
       "  2 "
      ]
     },
     "metadata": {},
     "output_type": "display_data"
    }
   ],
   "source": [
    "png(\"scatterplot.png\", width = 250, height = 250, units='mm', res = 300)\n",
    "pairs(d,\n",
    "      col = \"pink4\",                                         # Change color\n",
    "      pch = 16,                                            # Change shape of points\n",
    "      labels = c(\"x\", \"y\", \"carga\", \"masa\", \"velocidad\"))\n",
    "dev.off()"
   ]
  },
  {
   "cell_type": "code",
   "execution_count": 382,
   "metadata": {},
   "outputs": [],
   "source": [
    "p[,c(1,2,3,4,6)]->W"
   ]
  },
  {
   "cell_type": "code",
   "execution_count": null,
   "metadata": {},
   "outputs": [],
   "source": []
  }
 ],
 "metadata": {
  "kernelspec": {
   "display_name": "R",
   "language": "R",
   "name": "ir"
  },
  "language_info": {
   "codemirror_mode": "r",
   "file_extension": ".r",
   "mimetype": "text/x-r-source",
   "name": "R",
   "pygments_lexer": "r",
   "version": "4.0.2"
  }
 },
 "nbformat": 4,
 "nbformat_minor": 4
}
